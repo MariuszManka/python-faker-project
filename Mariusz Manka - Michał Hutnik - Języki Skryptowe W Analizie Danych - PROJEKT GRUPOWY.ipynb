{
 "cells": [
  {
   "cell_type": "markdown",
   "id": "5a8a8c08",
   "metadata": {},
   "source": [
    "## Mariusz Mańka, Michał Hutnik\n",
    "## Informatyka - niestajconarnie - V semestr \n",
    "## Wydział Matematyki Stosowanej\n",
    "## Przedmiot: Python w Analizie Danych\n",
    "## Projekt Grupowy - Wprowadzenie do biblioteki Faker"
   ]
  },
  {
   "cell_type": "markdown",
   "id": "a302dd80",
   "metadata": {},
   "source": [
    "***\n",
    "\n",
    "# Wprowadzenie do biblioteki Faker\n",
    "\n",
    "### Spis treści:\n",
    "1. Opis oraz wprowadzenie\n",
    "2. Import biblioteki Faker oraz innych niezbędnych bibliotek\n",
    "3. Tworzenie instancji klasy `Faker`.\n",
    "4. Lokalizacja\n",
    "5. Podstawowe funkcje\n",
    "\n",
    "\n",
    "***\n"
   ]
  },
  {
   "cell_type": "markdown",
   "id": "a2882fc5",
   "metadata": {},
   "source": [
    "### Czym są *dane losowe*?\n",
    "*Dane losowe* nazywane również fikcyjnymi - jak sama nazwa wskazuje są to losowo generowane dane, najczęściej z jakiegoś określonego zakresu. Z założenia mają one być fałszywe, przy jednoczesym jak najwięszym zbliżeniu do danych faktycznych. Innymi słowy - losowo generowana para - imię i nazwisko - będzie zawierała imię oraz nazwisko jak najbardziej zbliżone do używanych w danym języku, tak aby dane wydawały się być prawdziwe, a jednocześnie nie wskazywały na konkretną osobę.   \n",
    "\n",
    "### Gdzie używane są *dane losowe*?\n",
    "Takie dane mają stanowić substytut lub obiekt zastępczy dla prawdziwych danych. Używane są najczęściej do celów **testowych i operacyjnych**. Wykorzystuje się je między innymi:\n",
    "- Do zapełniania baz danych losowymi rekordami, \n",
    "- Jako zastępstwo faktycznych danych na stronach internetowych na etapie developmentu aplikacji\n",
    "- Na etapie testów apllikacji - aby sprawdzić jak napisany przez nas kod reaguje na różnego rodzaju dane wejściowe\n",
    "- Przy mockowaniu odpowiedzi np. z serwera API\n",
    "\n",
    "### Czym jest Faker?\n",
    "`Faker` **jest pythonową biblioteką pozwalającą na generowanie losowych danych różnego typu**.\n",
    "\n",
    "### Faker - licencja\n",
    "Biblioteka `Faker` udostępniana jest na zasadach bardzo popularnej **open-source'owej licencji MIT**. Według definicji jest to jedna z najprostszych i najbardziej liberalnych licencji otwartego oprogramowania. Daje użytkownikom **nieograniczone prawo do używania, kopiowania, modyfikowania i rozpowszechniania oryginalnego lub zmodyfikowanego programu** w postaci binarnej lub źródłowe. Oznacza to że każdy programista może bez żadnych konsekwencji kopiować kod źródłowy biblioteki, modyfikować go wedle własnych potrzeb, oraz korzystać ze zmodyfikowanej jego wersji. Każdy z programistów może również poprawiać zgłoszone błędy oraz udostępniać poprawiony kod innym. \n",
    "\n",
    "### Faker - instalacja \n",
    "Instalacja tej biblioteki przebiega analogicznie jak w przypadku pozostałych bibliotek pythona. Możemy to zrobić za pomocą polecenia: \n",
    "```cmd\n",
    "pip install Faker\n",
    "```\n",
    "Należy zwrócić uwagę na to że nazwa biblioteki pisana jest z wielkiej litery. Aby zainstalować bibliotekę za pomocą pakietu `Anaconda` wywołujemy polecenie: \n",
    "```cmd\n",
    "conda install Faker\n",
    "```\n",
    "Należy to zrobić z poziomu programu konsoli pakietu `Anaconda` - **Anaconda Prompt**\n",
    "\n",
    "### Kompatybilność\n",
    "Jak możemy przeczytać na stronie dokumentacji biblioteki `Faker` - \"Począwszy od wersji `4.0.0` Faker **porzucił wsparcie dla Pythona 2**, a od wersji `5.0.0` obsługuje **tylko Pythona 3.6 i nowsze.\"** Jeśli nasz projekt używa **pythona w wersji 2, powinniśmy zainstalować Faker'a w wersji** `3.0.1`."
   ]
  },
  {
   "cell_type": "markdown",
   "id": "9e975e93",
   "metadata": {},
   "source": [
    "***\n",
    "### Pełną dokumentację projektu `Faker` można znaleźć pod adresem: [faker.readthedocs.io/en/master](https://faker.readthedocs.io/en/master/index.html)\n",
    "### Kod źródłowy projektu `Faker` można znaleźć pod adresem: [github.com/joke2k/faker/tree/master](https://github.com/joke2k/faker/tree/master)\n",
    "***"
   ]
  },
  {
   "cell_type": "markdown",
   "id": "68ae413a",
   "metadata": {},
   "source": [
    "# Import niezbędnych bibliotek\n"
   ]
  },
  {
   "cell_type": "code",
   "execution_count": 1,
   "id": "44f309bc",
   "metadata": {},
   "outputs": [],
   "source": [
    "from faker import Faker"
   ]
  },
  {
   "cell_type": "markdown",
   "id": "bfdcfcdb",
   "metadata": {},
   "source": [
    "# Tworzenie instancji klasy Faker\n",
    "Aby skorzystać z biblioteki, pierwsze co musimy zrobić to wywołanie instancji klasy `Faker` na której będziemy pracować w dalszej części projektu."
   ]
  },
  {
   "cell_type": "code",
   "execution_count": 19,
   "id": "96e0ea66",
   "metadata": {},
   "outputs": [
    {
     "data": {
      "text/plain": [
       "<faker.proxy.Faker at 0x1928e8eb460>"
      ]
     },
     "execution_count": 19,
     "metadata": {},
     "output_type": "execute_result"
    }
   ],
   "source": [
    "fake = Faker()\n",
    "fake"
   ]
  },
  {
   "cell_type": "markdown",
   "id": "c667f407",
   "metadata": {},
   "source": [
    "# Lokalizacja\n",
    "Bardzo ważnym aspektem, wartym omówienia w nawiązaniu do tematu tworzenia instancji klasy `Faker` - jest **lokalizacja**.   \n",
    "Biblioteka ta wspiera **ponad 180 języków z podziałem na różne kody dla wybranych języków.** W tym zestawieniu znajduje się oczywiście **również język polski.** Listę wspieranych języków można znaleźć w kodzie źródłowym projektu na Githubie: \n",
    "[github.com/joke2k/faker/blob/master/faker/providers/__init__.py](https://github.com/joke2k/faker/blob/master/faker/providers/__init__.py)   \n",
    "Do sprawdzenia obecnej lokalizacji służy atrybut `locales`. Domyślną jego wartością jest wartość `en_US` wskazująca amerykańską odmianę języka angielskiego."
   ]
  },
  {
   "cell_type": "code",
   "execution_count": 21,
   "id": "b5071d8c",
   "metadata": {},
   "outputs": [
    {
     "data": {
      "text/plain": [
       "['en_US']"
      ]
     },
     "execution_count": 21,
     "metadata": {},
     "output_type": "execute_result"
    }
   ],
   "source": [
    "fake.locales"
   ]
  },
  {
   "cell_type": "markdown",
   "id": "f2f3c7a4",
   "metadata": {},
   "source": [
    "### Można to zachowanie jednak zmienić, podając interesujący nas kod kraju jako parametr konstruktora klasy `Faker` jak w przykładzie poniżej:"
   ]
  },
  {
   "cell_type": "code",
   "execution_count": 24,
   "id": "c5515054",
   "metadata": {},
   "outputs": [
    {
     "data": {
      "text/plain": [
       "['pl_PL']"
      ]
     },
     "execution_count": 24,
     "metadata": {},
     "output_type": "execute_result"
    }
   ],
   "source": [
    "polish_localized_faker = Faker('pl_PL')\n",
    "polish_localized_faker.locales"
   ]
  },
  {
   "cell_type": "code",
   "execution_count": 28,
   "id": "da580bd6",
   "metadata": {},
   "outputs": [
    {
     "name": "stdout",
     "output_type": "stream",
     "text": [
      "Olgierd Pizoń\n",
      "Robert Godzik\n",
      "Anita Abramczuk\n",
      "pani Blanka Kuszyk\n",
      "Kajetan Budrewicz\n"
     ]
    }
   ],
   "source": [
    "for i in range(0,5):\n",
    "    print(polish_localized_faker.name())"
   ]
  },
  {
   "cell_type": "markdown",
   "id": "01b83c9b",
   "metadata": {},
   "source": [
    "### Kolejną funkcjonalnością wartą uwagi jest fakt iż jako parametr do lokalizacji **możemy podać tablicę kilku różnych kodów krajów**. Co ciekawe zadziała to tak że w rezultacie dostaniemy dane zlokalizowane według podanych przez nas kodów z **losowym prawdopodobieństwem wystąpienia wyniku w danym języku.** Funkcjonalność ta dostępna jest dopiero od wersji `3.0.0` co oznacza że dla Pythona w wersji `2` również jest ona dostępna."
   ]
  },
  {
   "cell_type": "code",
   "execution_count": 29,
   "id": "8807fa47",
   "metadata": {},
   "outputs": [
    {
     "data": {
      "text/plain": [
       "['ru_RU', 'pl_PL', 'ja_JP', 'it_IT']"
      ]
     },
     "execution_count": 29,
     "metadata": {},
     "output_type": "execute_result"
    }
   ],
   "source": [
    "country_codes_array = ['ru_RU', 'pl_PL', 'ja_JP', 'it_IT']\n",
    "multi_country_codes_faker = Faker(country_codes_array)\n",
    "multi_country_codes_faker.locales"
   ]
  },
  {
   "cell_type": "markdown",
   "id": "fff54161",
   "metadata": {},
   "source": [
    "### Jak widać na poniższym przykładzie który zwraca w pętli losowo wygenerowane imiona i nazwiska, procentowy udział danego języka w rezultatach może być naprawdę różny."
   ]
  },
  {
   "cell_type": "code",
   "execution_count": 36,
   "id": "c82414e3",
   "metadata": {},
   "outputs": [
    {
     "name": "stdout",
     "output_type": "stream",
     "text": [
      "佐藤 晃\n",
      "Michela Morellato-Tiepolo\n",
      "Мишин Терентий Марсович\n",
      "Нинель Болеславовна Лобанова\n",
      "==============================\n",
      "森 治\n",
      "Róża Luks\n",
      "Olgierd Kaletka\n",
      "渡辺 直子\n"
     ]
    }
   ],
   "source": [
    "for i in range(0,4):\n",
    "    print(multi_country_codes_faker.name())\n",
    "    \n",
    "print(\"==============================\")\n",
    "\n",
    "for i in range(0,4):\n",
    "    print(multi_country_codes_faker.name())"
   ]
  },
  {
   "cell_type": "markdown",
   "id": "2e01c2da",
   "metadata": {},
   "source": [
    "# Podstawowe funkcje"
   ]
  },
  {
   "cell_type": "markdown",
   "id": "25ae23f8",
   "metadata": {},
   "source": [
    "# TODO DODAĆ PARĘ PODSTAWOWYCH FUNKCJI WRAZ Z OPISEM"
   ]
  },
  {
   "cell_type": "code",
   "execution_count": null,
   "id": "f54e384e",
   "metadata": {},
   "outputs": [],
   "source": []
  },
  {
   "cell_type": "code",
   "execution_count": null,
   "id": "4c2f2f90",
   "metadata": {},
   "outputs": [],
   "source": []
  },
  {
   "cell_type": "code",
   "execution_count": null,
   "id": "a9273ac6",
   "metadata": {},
   "outputs": [],
   "source": []
  },
  {
   "cell_type": "markdown",
   "id": "273048db",
   "metadata": {},
   "source": [
    "# Bibliografia oraz użyte źródła:\n"
   ]
  },
  {
   "cell_type": "code",
   "execution_count": null,
   "id": "eae897c8",
   "metadata": {},
   "outputs": [],
   "source": []
  }
 ],
 "metadata": {
  "kernelspec": {
   "display_name": "Python 3 (ipykernel)",
   "language": "python",
   "name": "python3"
  },
  "language_info": {
   "codemirror_mode": {
    "name": "ipython",
    "version": 3
   },
   "file_extension": ".py",
   "mimetype": "text/x-python",
   "name": "python",
   "nbconvert_exporter": "python",
   "pygments_lexer": "ipython3",
   "version": "3.9.7"
  }
 },
 "nbformat": 4,
 "nbformat_minor": 5
}
