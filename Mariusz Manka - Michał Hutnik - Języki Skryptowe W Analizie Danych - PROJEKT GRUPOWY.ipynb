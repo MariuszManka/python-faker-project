{
 "cells": [
  {
   "cell_type": "markdown",
   "id": "a0868cd3",
   "metadata": {},
   "source": [
    "## Mariusz Mańka, Michał Hutnik\n",
    "## Informatyka - niestajconarnie - V semestr \n",
    "## Wydział Matematyki Stosowanej\n",
    "## Przedmiot: Python w Analizie Danych\n",
    "## Projekt Grupowy - Wprowadzenie do biblioteki Faker"
   ]
  },
  {
   "cell_type": "markdown",
   "id": "919f9843",
   "metadata": {},
   "source": [
    "***\n",
    "\n",
    "# Wprowadzenie do biblioteki Faker\n",
    "\n",
    "## Spis treści:\n",
    "### 1. Wprowadzenie do tematu losowości w systemach komputerowych\n",
    "### 2. Import biblioteki Faker oraz innych niezbędnych bibliotek\n",
    "### 3. Tworzenie instancji klasy `Faker`.\n",
    "### 4. Lokalizacja\n",
    "### 5. Podstawowe funkcje\n",
    "\n",
    "\n",
    "***\n"
   ]
  },
  {
   "cell_type": "markdown",
   "id": "e7cbfbc0",
   "metadata": {},
   "source": [
    "# Wprowadzenie do tematu losowości w systemach komputerowych\n"
   ]
  },
  {
   "cell_type": "markdown",
   "id": "02f9b9ab",
   "metadata": {},
   "source": [
    "### Losowość w systemach komputerowych\n",
    "W przypadku komputerów oraz wszelkiego rodzaju systemów komputerowych, ciężko mówić o jakiejkolwiek losowości. Komputery są maszynami liczącymi - z założenia wykonującymi bardziej lub mniej skomplikowane obliczenia matematyczne. Same w sobie nie są w stanie wygenerować liczby losowej.  \n",
    "Aby wygenerować liczbę losową komputer musiałby zmierzyć pewien rodzaj zjawiska fizycznego zachodzącego poza nim samym. Teoria mówi że do wygenerowania liczb losowych komputery mogłby mierzyć rozpad radioaktywny atomu - nie ma sposobu, aby wiedzieć na pewno, kiedy nastąpi rozpad radioaktywny, więc jest to zasadniczo \"czysta przypadkowość\". Bardziej codziennym przypadkiem może być mierzenie przez komputer **szumu atmosferycznego** lub też **czas naciśnięcia klawiszy na klawiaturze**. Te dwie miary w przyblizeniu można nazwać przypadkowymi. Jednak i te praktyki są bardzo rzadko stosowane. W przypadku systemów komputerowych jednak najczęściej będziemy mówili o `pseudolosowości`.  \n",
    "\n",
    "### Pseudolosowość\n",
    "Liczby pseudolosowe są generowane za pomocą **generatorów liczb pseudolosowych.**  Przyjmują one pewną wartość - tak zwane `ziarno` z (ang. `seed`) i wykonują na nich szereg operacji matematycznych. Liczba która wyjdzie w wyniku takich przekształceń jest w pewnym sensie losowa. Nie jest to jednak w pełni losowa wartość, ponieważ **znająć `ziarno` jesteśmy w stanie odtworzyć liczbę zwróconą w wyniku wszystkich przekształceń.**  Systemy komputerowe jako `ziarno` **najczęściej wybierają aktualną datę**. W systemach z rodziny Unix, ta przechowywana jest jako **liczba sekund która upłynęła od 1 stycznia 1970 roku.** Stąd liczba ta w każdej sekundzie będzie inna. To podejście jednak ma jedną wadę, liczby wygenerowane w tej samej sekunidze będą sobie równe ponieważ liczba na wejściu - `ziarno` będzie identyczna. Jednak w większości przypadków takie podejście sprawdza się dobrze, i zaspokaja potrzeby większości programistów. Należy również nadmienić że większość programów oraz generatorów liczb losowych dopuszcza podanie własnego `ziarna` na potrzeby generowania liczb.  \n",
    "\n",
    "### Czym są *dane losowe*?\n",
    "*Dane losowe* nazywane również fikcyjnymi - jak sama nazwa wskazuje są to losowo generowane dane, najczęściej z jakiegoś określonego zakresu. Z założenia mają one być fałszywe, przy jednoczesym jak najwięszym zbliżeniu do danych faktycznych. Innymi słowy - losowo generowana para - imię i nazwisko - będzie zawierała imię oraz nazwisko jak najbardziej zbliżone do używanych w danym języku, tak aby dane wydawały się być prawdziwe, a jednocześnie nie wskazywały na konkretną osobę.   \n",
    "\n",
    "### Gdzie używane są *dane losowe*?\n",
    "Takie dane mają stanowić substytut lub obiekt zastępczy dla prawdziwych danych. Używane są najczęściej do celów **testowych i operacyjnych**. Wykorzystuje się je między innymi:\n",
    "- Do zapełniania baz danych losowymi rekordami, \n",
    "- Jako zastępstwo faktycznych danych na stronach internetowych na etapie developmentu aplikacji\n",
    "- Na etapie testów apllikacji - aby sprawdzić jak napisany przez nas kod reaguje na różnego rodzaju dane wejściowe\n",
    "- Przy mockowaniu odpowiedzi np. z serwera API\n",
    "- W statystyce\n",
    "- W kryptofrafii\n",
    "- Przy okazji symulacji różnych procesów\n",
    "\n",
    "\n",
    "\n",
    "### Czym jest Faker?\n",
    "`Faker` **jest pythonową biblioteką pozwalającą na generowanie losowych danych różnego typu**.\n",
    "\n",
    "### Faker - licencja\n",
    "Biblioteka `Faker` udostępniana jest na zasadach bardzo popularnej **open-source'owej licencji MIT**. Według definicji jest to jedna z najprostszych i najbardziej liberalnych licencji otwartego oprogramowania. Daje użytkownikom **nieograniczone prawo do używania, kopiowania, modyfikowania i rozpowszechniania oryginalnego lub zmodyfikowanego programu** w postaci binarnej lub źródłowe. Oznacza to że każdy programista może bez żadnych konsekwencji kopiować kod źródłowy biblioteki, modyfikować go wedle własnych potrzeb, oraz korzystać ze zmodyfikowanej jego wersji. Każdy z programistów może również poprawiać zgłoszone błędy oraz udostępniać poprawiony kod innym. \n",
    "\n",
    "### Faker - instalacja \n",
    "Instalacja tej biblioteki przebiega analogicznie jak w przypadku pozostałych bibliotek pythona. Możemy to zrobić za pomocą polecenia: \n",
    "```cmd\n",
    "pip install Faker\n",
    "```\n",
    "Należy zwrócić uwagę na to że nazwa biblioteki pisana jest z wielkiej litery. Aby zainstalować bibliotekę za pomocą pakietu `Anaconda` wywołujemy polecenie: \n",
    "```cmd\n",
    "conda install Faker\n",
    "```\n",
    "Należy to zrobić z poziomu programu konsoli pakietu `Anaconda` - **Anaconda Prompt**\n",
    "\n",
    "### Kompatybilność\n",
    "Jak możemy przeczytać na stronie dokumentacji biblioteki `Faker` - \"Począwszy od wersji `4.0.0` Faker **porzucił wsparcie dla Pythona 2**, a od wersji `5.0.0` obsługuje **tylko Pythona 3.6 i nowsze.\"** Jeśli nasz projekt używa **pythona w wersji 2, powinniśmy zainstalować Faker'a w wersji** `3.0.1`."
   ]
  },
  {
   "cell_type": "markdown",
   "id": "50c30ec6",
   "metadata": {},
   "source": [
    "***\n",
    "### Pełną dokumentację projektu `Faker` można znaleźć pod adresem: [faker.readthedocs.io/en/master](https://faker.readthedocs.io/en/master/index.html)\n",
    "### Kod źródłowy projektu `Faker` można znaleźć pod adresem: [github.com/joke2k/faker/tree/master](https://github.com/joke2k/faker/tree/master)\n",
    "***"
   ]
  },
  {
   "cell_type": "markdown",
   "id": "148d68c8",
   "metadata": {},
   "source": [
    "# Podstawowe pojęcia dotyczące biblioteki\n"
   ]
  },
  {
   "cell_type": "markdown",
   "id": "3b4f67d7",
   "metadata": {},
   "source": [
    "## 1. Providers (Dostawcy):"
   ]
  },
  {
   "cell_type": "markdown",
   "id": "209b9330",
   "metadata": {},
   "source": [
    "Pojęcie to jest kluczowe w zrozumieniu działania oraz mechaniki klasy `Faker`. **Dostawców** można zdefiniować jako pewną grupę funkcji, realizującą konkretne zadanie oraz należącą do klasy bazowej `Faker`   \n",
    "**Podstawowi *Dostawcy* to między innymi:**  \n",
    "1. [`faker.providers.address`](https://faker.readthedocs.io/en/master/providers/faker.providers.address.html) - zawiera on funkcje pozwalające zwrócić np. losowy adres zamieszkania, losową ulicę, miasto, numer domu itd.\n",
    "2. [`faker.providers.currency`](https://faker.readthedocs.io/en/master/providers/faker.providers.currency.html) - zawiera on m.in. funkcje zwracające krotkę z losową walutą (lub kryptowalutą) jako parę - (`kod_waluty`, `nazwa_waluty`), nazwę waluty, kod waluty, symbol waluty itd.\n",
    "3. [`faker.providers.person`](https://faker.readthedocs.io/en/master/providers/faker.providers.person.html) - zawiera funkcje zwracające m.in. imię, nazwisko (zarówno losowo męskie i damskie, jak i oddzielnie tylko męskie bądź też tylko damskie), parę imię i nazwisko, przedrostek np. \"inż\" lub \"dr\" itd. \n",
    "4. Bardzo ciekawym *dostawcą*, wartym wspomnienia jest: [`faker.providers.profile`](https://faker.readthedocs.io/en/master/providers/faker.providers.profile.html) - posiada on tylko dwie funkcje `profile` oraz `simple_profile`. Zwracają one profil danej osoby w postaci słownika, z takimi informacjami jak: **imię**, **nazwisko**, **data urodzenia**, **adres**, **grupa krwi**, **nazwa użytkownika**, **strona internetowa**, **adres e-mail** i wiele więcej. Innymi słowy, te funkcje zwracają kompletny profil użytkownika, który można bez problemu wykorzystać np. do mockowania bazy danych użytkowników.\n",
    "\n",
    "#### **Lista wszystkich podstawowych *dostawców* jest dostepna pod adresem**: [`faker.readthedocs.io/en/master/providers`](https://faker.readthedocs.io/en/master/providers.html)\n"
   ]
  },
  {
   "cell_type": "markdown",
   "id": "843b9217",
   "metadata": {},
   "source": [
    "## 2. Community Providers (Dostawcy społeczności):\n",
    "Jest to grupa dostawców zaprojektowana **przez społeczność**. `Faker` daje możliwość tworzenia swoich własnych *dostawców*, z własnymi funkcjonalnościami. Najczęsciej tacy *dostawcy* używani są przez programistów tylko w lokalnym projekcie na własne potrzeby, natomiast twórcy biblioteki dają nam możliwość publikacji naszego *dostawcy* i dołączenia go do oficjalnego projektu. Istnieje taka możliwość, jednakże wcześniej trzeba spełnić szereg wymagań opisanych dokładniej na stronie: [`faker.readthedocs.io/en/master/communityproviders`](https://faker.readthedocs.io/en/master/communityproviders.html) (tutaj również znajdziemy listę *dostawców* społeczności już dołączonych do projektu)"
   ]
  },
  {
   "cell_type": "markdown",
   "id": "44c2e533",
   "metadata": {},
   "source": [
    "## 3. Localized Providers (Lokalizowani dostawcy)\n",
    "`Faker` daje nam możliwość lokalizacji zwracanych wyników (co będzie szerzej omówione w dalszej części projektu). W sekcji **Localized Providers** możemy sprawdzić którzy *dostawcy* wspierają lokalizację której chcemy użyć do mockowania danych.   \n",
    "**Informacje te możemy znaleźć pod adresem:** [`faker.readthedocs.io/en/master/locales`](https://faker.readthedocs.io/en/master/locales.html)\n",
    "***"
   ]
  },
  {
   "cell_type": "markdown",
   "id": "f2f4c639",
   "metadata": {},
   "source": [
    "# Import niezbędnych bibliotek\n"
   ]
  },
  {
   "cell_type": "code",
   "execution_count": 28,
   "id": "4ccbcd96",
   "metadata": {},
   "outputs": [],
   "source": [
    "from faker import Faker\n",
    "import string\n",
    "import random\n",
    "import requests"
   ]
  },
  {
   "cell_type": "markdown",
   "id": "8fbfaacf",
   "metadata": {},
   "source": [
    "# Tworzenie instancji klasy Faker\n",
    "Aby skorzystać z biblioteki, pierwsze co musimy zrobić to wywołanie instancji klasy `Faker` na której będziemy pracować w dalszej części projektu."
   ]
  },
  {
   "cell_type": "code",
   "execution_count": 4,
   "id": "23e549e4",
   "metadata": {},
   "outputs": [
    {
     "data": {
      "text/plain": [
       "<faker.proxy.Faker at 0x14e63de2760>"
      ]
     },
     "execution_count": 4,
     "metadata": {},
     "output_type": "execute_result"
    }
   ],
   "source": [
    "fake = Faker()\n",
    "fake"
   ]
  },
  {
   "cell_type": "markdown",
   "id": "7343affb",
   "metadata": {},
   "source": [
    "# Lokalizacja\n",
    "Bardzo ważnym aspektem, wartym omówienia w nawiązaniu do tematu tworzenia instancji klasy `Faker` - jest **lokalizacja**.   \n",
    "Biblioteka ta wspiera **ponad 180 języków z podziałem na różne kody dla wybranych języków.** W tym zestawieniu znajduje się oczywiście **również język polski.** Listę wspieranych języków można znaleźć w kodzie źródłowym projektu na Githubie: \n",
    "[github.com/joke2k/faker/blob/master/faker/providers/__init__.py](https://github.com/joke2k/faker/blob/master/faker/providers/__init__.py)   \n",
    "Do sprawdzenia obecnej lokalizacji służy atrybut `locales`. Domyślną jego wartością jest wartość `en_US` wskazująca amerykańską odmianę języka angielskiego."
   ]
  },
  {
   "cell_type": "code",
   "execution_count": 89,
   "id": "e8234316",
   "metadata": {},
   "outputs": [
    {
     "data": {
      "text/plain": [
       "['en_US']"
      ]
     },
     "execution_count": 89,
     "metadata": {},
     "output_type": "execute_result"
    }
   ],
   "source": [
    "fake.locales"
   ]
  },
  {
   "cell_type": "markdown",
   "id": "7302b498",
   "metadata": {},
   "source": [
    "### Można to zachowanie jednak zmienić, podając interesujący nas kod kraju jako parametr konstruktora klasy `Faker` jak w przykładzie poniżej:"
   ]
  },
  {
   "cell_type": "code",
   "execution_count": 42,
   "id": "58df0e34",
   "metadata": {},
   "outputs": [
    {
     "data": {
      "text/plain": [
       "['pl_PL']"
      ]
     },
     "execution_count": 42,
     "metadata": {},
     "output_type": "execute_result"
    }
   ],
   "source": [
    "polish_localized_faker = Faker('pl_PL')\n",
    "polish_localized_faker.locales"
   ]
  },
  {
   "cell_type": "code",
   "execution_count": 91,
   "id": "a54a5e43",
   "metadata": {},
   "outputs": [
    {
     "name": "stdout",
     "output_type": "stream",
     "text": [
      "Sylwia Kluczek\n",
      "Karina Flaga\n",
      "Paweł Łaszczyk\n",
      "Apolonia Durczok\n",
      "Józef Boksa\n"
     ]
    }
   ],
   "source": [
    "for i in range(0,5):\n",
    "    print(polish_localized_faker.name())"
   ]
  },
  {
   "cell_type": "markdown",
   "id": "76753761",
   "metadata": {},
   "source": [
    "### Kolejną funkcjonalnością wartą uwagi jest fakt iż jako parametr do lokalizacji **możemy podać tablicę kilku różnych kodów krajów**. Co ciekawe zadziała to tak że w rezultacie dostaniemy dane zlokalizowane według podanych przez nas kodów z **losowym prawdopodobieństwem wystąpienia wyniku w danym języku.** Funkcjonalność ta dostępna jest dopiero od wersji `3.0.0` co oznacza że dla Pythona w wersji `2` również jest ona dostępna."
   ]
  },
  {
   "cell_type": "code",
   "execution_count": 8,
   "id": "f681ad9a",
   "metadata": {},
   "outputs": [
    {
     "data": {
      "text/plain": [
       "['ru_RU', 'pl_PL', 'ja_JP', 'it_IT']"
      ]
     },
     "execution_count": 8,
     "metadata": {},
     "output_type": "execute_result"
    }
   ],
   "source": [
    "country_codes_array = ['ru_RU', 'pl_PL', 'ja_JP', 'it_IT']\n",
    "multi_country_codes_faker = Faker(country_codes_array)\n",
    "multi_country_codes_faker.locales"
   ]
  },
  {
   "cell_type": "markdown",
   "id": "985f6718",
   "metadata": {},
   "source": [
    "### Jak widać na poniższym przykładzie który zwraca w pętli losowo wygenerowane imiona i nazwiska, procentowy udział danego języka w rezultatach może być naprawdę różny."
   ]
  },
  {
   "cell_type": "code",
   "execution_count": 9,
   "id": "711441d4",
   "metadata": {},
   "outputs": [
    {
     "name": "stdout",
     "output_type": "stream",
     "text": [
      "Konrad Pajdak\n",
      "Antonietta Pacelli\n",
      "林 舞\n",
      "Шашков Каллистрат Яковлевич\n",
      "==============================\n",
      "Валентина Богдановна Харитонова\n",
      "pan Konrad Ważna\n",
      "Марина Павловна Павлова\n",
      "Angelica Cociarelli-Salvemini\n"
     ]
    }
   ],
   "source": [
    "for i in range(0,4):\n",
    "    print(multi_country_codes_faker.name())\n",
    "    \n",
    "print(\"==============================\")\n",
    "\n",
    "for i in range(0,4):\n",
    "    print(multi_country_codes_faker.name())"
   ]
  },
  {
   "cell_type": "markdown",
   "id": "8f3d26d1",
   "metadata": {},
   "source": [
    "# Podstawowe funkcje"
   ]
  },
  {
   "cell_type": "markdown",
   "id": "d7f5ba84",
   "metadata": {},
   "source": [
    "## 1.1. `faker.providers.person` \n",
    "**Pełen opis metod tego *dostawcy* można znaleźć pod adresem:** [faker.readthedocs.io/en/master/providers/faker.providers.person](https://faker.readthedocs.io/en/master/providers/faker.providers.person.html) "
   ]
  },
  {
   "cell_type": "code",
   "execution_count": 10,
   "id": "dcf572a0",
   "metadata": {},
   "outputs": [
    {
     "name": "stdout",
     "output_type": "stream",
     "text": [
      "Metoda zwracająca imię - first_name(): \n",
      "Emil\n",
      "=================\n",
      "\n",
      "Metoda zwracająca nazwisko - last_name(): \n",
      "Michnik\n",
      "=================\n",
      "\n",
      "Metoda zwracająca tylko damskie imię - first_name_female():\n",
      "Bianka, Monika, Adrianna, Natasza, Gaja, Adrianna, Lidia, Inga, Monika, Karina, \n",
      "=================\n",
      "\n",
      "Metoda zwracająca tylko męskie imię first_name_male(): \n",
      "Marek, Konrad, Maksymilian, Jan, Szymon, Krzysztof, Filip, Maciej, Kajetan, Wojciech, \n",
      "=================\n",
      "\n",
      "\n",
      "Metoda zwracająca przedrostek - prefix(): \n",
      "pani\n",
      "=================\n",
      "\n",
      "Metoda zwracająca parę imię i nazwisko - name(): \n",
      "Jerzy Kucewicz\n",
      "=================\n",
      "\n"
     ]
    }
   ],
   "source": [
    "print(\"Metoda zwracająca imię - first_name(): \")\n",
    "print(polish_localized_faker.first_name(), end='\\n=================\\n\\n')\n",
    "\n",
    "print(\"Metoda zwracająca nazwisko - last_name(): \")\n",
    "print(polish_localized_faker.last_name(), end='\\n=================\\n\\n')\n",
    "\n",
    "print(\"Metoda zwracająca tylko damskie imię - first_name_female():\")\n",
    "for i in range(0,10):\n",
    "    print(polish_localized_faker.first_name_female(), end=', ')\n",
    "print('\\n=================\\n')  \n",
    "\n",
    "print(\"Metoda zwracająca tylko męskie imię first_name_male(): \")\n",
    "for i in range(0,10):\n",
    "    print(polish_localized_faker.first_name_male(), end=', ')\n",
    "print('\\n=================\\n\\n')  \n",
    "\n",
    "print(\"Metoda zwracająca przedrostek - prefix(): \")\n",
    "print(polish_localized_faker.prefix(),end='\\n=================\\n\\n')    \n",
    "\n",
    "print(\"Metoda zwracająca parę imię i nazwisko - name(): \")\n",
    "print(polish_localized_faker.name(),end='\\n=================\\n\\n')    \n"
   ]
  },
  {
   "cell_type": "markdown",
   "id": "202cec73",
   "metadata": {},
   "source": [
    "## 1.2. `faker.providers.address` \n",
    "**Pełen opis metod tego *dostawcy* można znaleźć pod adresem:** [faker.readthedocs.io/en/master/providers/faker.providers.address](https://faker.readthedocs.io/en/master/providers/faker.providers.address.html) "
   ]
  },
  {
   "cell_type": "code",
   "execution_count": 11,
   "id": "cc613451",
   "metadata": {},
   "outputs": [
    {
     "name": "stdout",
     "output_type": "stream",
     "text": [
      "Metoda zwracająca pełny adres - address(): \n",
      "al. Handlowa 61/72\n",
      "73-436 Pabianice\n",
      "=================\n",
      "\n",
      "Metoda zwracająca numer budynku - building_number(): \n",
      "53\n",
      "=================\n",
      "\n",
      "Metoda zwracająca nazwę miasta - city():\n",
      "Mińsk Mazowiecki\n",
      "=================\n",
      "\n",
      "Metoda zwracająca województwo - region(): \n",
      "Mazowieckie\n",
      "=================\n",
      "\n",
      "Metoda zwracająca kod pocztowy - postcode(): \n",
      "51-702\n",
      "=================\n",
      "\n",
      "Metoda zwracająca adres ulicy - street_address(): \n",
      "plac Kwiatowa 03\n",
      "=================\n",
      "\n"
     ]
    }
   ],
   "source": [
    "print(\"Metoda zwracająca pełny adres - address(): \")\n",
    "print(polish_localized_faker.address(), end='\\n=================\\n\\n')\n",
    "\n",
    "print(\"Metoda zwracająca numer budynku - building_number(): \")\n",
    "print(polish_localized_faker.building_number(), end='\\n=================\\n\\n')\n",
    "\n",
    "print(\"Metoda zwracająca nazwę miasta - city():\")\n",
    "print(polish_localized_faker.city(), end='\\n=================\\n\\n') \n",
    "\n",
    "print(\"Metoda zwracająca województwo - region(): \")\n",
    "print(polish_localized_faker.region(), end='\\n=================\\n\\n') \n",
    "\n",
    "print(\"Metoda zwracająca kod pocztowy - postcode(): \")\n",
    "print(polish_localized_faker.postcode(),end='\\n=================\\n\\n')    \n",
    "\n",
    "print(\"Metoda zwracająca adres ulicy - street_address(): \")\n",
    "print(polish_localized_faker.street_address(),end='\\n=================\\n\\n')    \n"
   ]
  },
  {
   "cell_type": "markdown",
   "id": "41b27caa",
   "metadata": {},
   "source": [
    "## 1.3. `faker.providers.profile` \n",
    "**Pełen opis metod tego *dostawcy* można znaleźć pod adresem:** [faker.readthedocs.io/en/master/providers/faker.providers.profile](https://faker.readthedocs.io/en/master/providers/faker.providers.profile.html) "
   ]
  },
  {
   "cell_type": "code",
   "execution_count": 12,
   "id": "e2290cca",
   "metadata": {},
   "outputs": [
    {
     "name": "stdout",
     "output_type": "stream",
     "text": [
      "Metoda zwracająca pełen profil osoby - profile(): \n",
      "\n",
      "{'job': 'Redaktor naukowy', 'company': 'FPUH Sładek-Klorek Sp.j.', 'ssn': '99031679381', 'residence': 'aleja Krasińskiego 352\\n18-220 Nowy Targ', 'current_location': (Decimal('-55.032441'), Decimal('-121.416194')), 'blood_group': 'O+', 'website': ['http://www.stowarzyszenie.pl/', 'http://doroz.com/', 'https://kopala-szambelan.pl/', 'http://ppuh.com/'], 'username': 'ida24', 'name': 'pan Dawid Irla', 'sex': 'F', 'address': 'al. Osiedlowa 89/07\\n55-370 Łomża', 'mail': 'norbert45@yahoo.com', 'birthdate': datetime.date(1950, 6, 25)}\n",
      "\n",
      "=====================\n",
      "\n",
      "\n",
      "Metoda zwracająca częściowy profil osoby - simple_profile(): \n",
      "\n",
      "{'username': 'stylus', 'name': 'Krystyna Mytnik', 'sex': 'M', 'address': 'aleja Dębowa 47/39\\n95-440 Rybnik', 'mail': 'pzadora@hotmail.com', 'birthdate': datetime.date(1981, 9, 25)}\n",
      "\n",
      "=====================\n",
      "\n",
      "\n",
      "Metoda zwracająca pełen profil osoby - profile(): - z uwzględnieniem lokalizacji: \n",
      "\n",
      "{'job': 'IT technical support officer', 'company': 'Boccaccio e figli', 'ssn': 'TIDYBM98R30A735J', 'residence': 'Contrada Trebbi 219 Appartamento 22\\nSettimo Iolanda a mare, 83499 Alessandria (CN)', 'current_location': (Decimal('29.4558985'), Decimal('-58.035847')), 'blood_group': 'B-', 'website': ['http://www.ariosto.net/', 'http://www.toselli.com/', 'http://www.borsiere-crespi.it/'], 'username': 'mauro05', 'name': 'Dott. Iolanda Farinelli', 'sex': 'F', 'address': \"Vicolo Alessandro 6 Appartamento 39\\nAngelo nell'emilia, 22536 Grosseto (OG)\", 'mail': 'rdallara@tiscali.it', 'birthdate': datetime.date(1909, 2, 13)}\n",
      "\n",
      "=====================\n",
      "\n",
      "\n",
      "Metoda zwracająca częściowy profil osoby - simple_profile(): - z uwzględnieniem lokalizacji: \n",
      "\n",
      "{'username': 'carlopanatta', 'name': 'Mariana Tanzini', 'sex': 'F', 'address': \"Strada Passalacqua 08\\nCilea nell'emilia, 80333 Rieti (TA)\", 'mail': 'nstucchi@hotmail.com', 'birthdate': datetime.date(2015, 12, 8)}\n"
     ]
    }
   ],
   "source": [
    "print(\"Metoda zwracająca pełen profil osoby - profile(): \", end='\\n\\n')\n",
    "print(polish_localized_faker.profile())\n",
    "\n",
    "print('\\n=====================\\n\\n')\n",
    "\n",
    "print(\"Metoda zwracająca częściowy profil osoby - simple_profile(): \", end='\\n\\n')\n",
    "print(polish_localized_faker.simple_profile())\n",
    "\n",
    "print('\\n=====================\\n\\n')\n",
    "\n",
    "print(\"Metoda zwracająca pełen profil osoby - profile(): - z uwzględnieniem lokalizacji: \", end='\\n\\n')\n",
    "print(multi_country_codes_faker.profile())\n",
    "\n",
    "print('\\n=====================\\n\\n')\n",
    "\n",
    "print(\"Metoda zwracająca częściowy profil osoby - simple_profile(): - z uwzględnieniem lokalizacji: \", end='\\n\\n')\n",
    "print(multi_country_codes_faker.simple_profile())"
   ]
  },
  {
   "cell_type": "markdown",
   "id": "daa3ab1d",
   "metadata": {},
   "source": [
    "## 1.4. `faker.providers.python` \n",
    "**Pełen opis metod tego *dostawcy* można znaleźć pod adresem:** [faker.readthedocs.io/en/master/providers/faker.providers.python](https://faker.readthedocs.io/en/master/providers/faker.providers.python.html) "
   ]
  },
  {
   "cell_type": "code",
   "execution_count": 13,
   "id": "f6d63c7a",
   "metadata": {},
   "outputs": [
    {
     "name": "stdout",
     "output_type": "stream",
     "text": [
      "False | False | True | False | True | False | False | False | True | False | "
     ]
    }
   ],
   "source": [
    "for _ in range(0, 10):\n",
    "    print(fake.pybool(), end=' | ')"
   ]
  },
  {
   "cell_type": "code",
   "execution_count": 14,
   "id": "0fffed92",
   "metadata": {},
   "outputs": [
    {
     "name": "stdout",
     "output_type": "stream",
     "text": [
      "Metoda zwracająca losową wartość typu Bool - pybool(): \n",
      "True | False | True | True | True | False | False | False | True | False | \n",
      "=================\n",
      "\n",
      "\n",
      "Metoda zwracająca losową liczbe typu Decimal - pydecimal(): \n",
      "726.14 | -409.4 | 2789.98 | -9563.42 | 6431.74 | 9785.63 | -6425.54 | 7198.95 | 887.59 | 210.69 | \n",
      "=================\n",
      "\n",
      "\n",
      "Metoda zwracająca losowy słownik - pydict():\n",
      "{'for': 6502, 'discover': -865.568447285551, 'two': -1721395584281.72}\n",
      "{'include': 3239, 'that': 'HpsgYPOompOAMTqvRUQh', 'movie': -5402.19437741622}\n",
      "{'worry': 9857, 'wait': 'MLFHHpTimvQsCZBcWOIL'}\n",
      "{'recognize': 'LgXEfgZpCzarsiQtzazI', 'next': 1318}\n",
      "{'wrong': -94374.5263709697, 'even': 'gxldMEdsYNpzIrhYCsva'}\n",
      "{'job': 66897477912.1764, 'break': 'bvWLBsfZAzqZSUXOIexl'}\n",
      "{'citizen': 1973, 'wait': 'lNYtDHHDVbbaMDRiiBKp'}\n",
      "{'million': 6964, 'strong': -260774782.141745}\n",
      "{'try': 'cTheqygMIpEGsOGQqJav', 'industry': -84356163.3482929, 'seat': 6075}\n",
      "{'dinner': 733729741.807548, 'other': -23724564622.4988, 'those': 98255.7171405643}\n",
      "\n",
      "=================\n",
      "\n",
      "\n",
      "Metoda zwracająca losową listę - pylist():\n",
      "[-45099212518.4141, -282629355086.91]\n",
      "[98821476.808013]\n",
      "[752.422572170274]\n",
      "[-54918550.420492]\n",
      "[533360.11667287, 2737033166061.22]\n",
      "[45111534199.1362]\n",
      "['vOGyqhvAQBMmqNymWakx']\n",
      "[-83883366.4538538]\n",
      "[62.7196864815501, 'MCkWMUKqAPqlknNGqSmf']\n",
      "[-0.84984071689934, 39256.1188391665]\n",
      "\n",
      "=================\n",
      "\n",
      "\n",
      "Metoda zwracająca losowy ciąg znaków - pystr():\n",
      "NyqryzsUKWHYpHJjVPMb\n",
      "MWherGJqIEBsAlODhqmG\n",
      "mGddlaAWdjsaIutVQpqS\n",
      "FHGsJDIjlOSuBPTkApKf\n",
      "IBZJPsRDpCqFntfxNwke\n",
      "CGKnSkIjNDnxCUNTguST\n",
      "vapzVuIpgAKVbpxIcREd\n",
      "oWOVhKUKboSQscITbARt\n",
      "NNIaorTIyEpyfChzWjmx\n",
      "SqYMjWdKZHscHtRCdwTK\n",
      "\n",
      "=================\n",
      "\n",
      "\n",
      "Metoda zwracająca losowy ciąg znaków według zadanego wzorca - pystr_format(): \n",
      "gdzie: ? - reprezentuje dowonlą literę, natomiast # - liczbę\n",
      "PZ__0La5-t43-nx-5953-TEST_3736k\n",
      "tU__8vF0-s37-zR-8344-TEST_650p\n",
      "Ar__5fR9-Z58-gA-0882-TEST_1761c\n",
      "Lx__0zc2-M88-xz-7220-TEST_6276q\n",
      "uZ__1JK8-r06-OI-3666-TEST_6679m\n",
      "Am__0gC1-J00-PW-8305-TEST_8297E\n",
      "VA__1Cr0-l87-yy-3722-TEST_7207g\n",
      "Rv__2nM4-K53-gU-7543-TEST_9620w\n",
      "vV__7of8-t97-Uh-2666-TEST_5610Z\n",
      "ks__8hs7-k56-Gm-2104-TEST_7144s\n",
      "\n",
      "=================\n",
      "\n",
      "\n"
     ]
    }
   ],
   "source": [
    "print(\"Metoda zwracająca losową wartość typu Bool - pybool(): \")\n",
    "for _ in range(0, 10):\n",
    "    print(fake.pybool(), end=' | ')\n",
    "print('\\n=================\\n\\n')\n",
    "\n",
    "print(\"Metoda zwracająca losową liczbe typu Decimal - pydecimal(): \") # Można użyć również pyfloat()\n",
    "for _ in range(0, 10):\n",
    "    print(fake.pydecimal(left_digits=4, right_digits=2, positive=fake.pybool()), end=' | ')\n",
    "print('\\n=================\\n\\n')\n",
    "\n",
    "print(\"Metoda zwracająca losowy słownik - pydict():\")\n",
    "for _ in range(0, 10):\n",
    "    print(fake.pydict(nb_elements=3, value_types=[str, int, float]), end='\\n')\n",
    "print('\\n=================\\n\\n') \n",
    "\n",
    "print(\"Metoda zwracająca losową listę - pylist():\")\n",
    "for _ in range(0, 10):\n",
    "    print(fake.pylist(nb_elements=2, value_types=[str, float]), end='\\n')\n",
    "print('\\n=================\\n\\n') \n",
    "\n",
    "print(\"Metoda zwracająca losowy ciąg znaków - pystr():\")\n",
    "for _ in range(0, 10):\n",
    "    print(fake.pystr(), end='\\n')\n",
    "print('\\n=================\\n\\n')    \n",
    "\n",
    "print(\"Metoda zwracająca losowy ciąg znaków według zadanego wzorca - pystr_format(): \")\n",
    "print('gdzie: ? - reprezentuje dowonlą literę, natomiast # - liczbę')\n",
    "for _ in range(0, 10):\n",
    "    print(fake.pystr_format(string_format='??__#??#-?##-??-####-TEST_{{random_int}}{{random_letter}}'), end='\\n')\n",
    "print('\\n=================\\n\\n')  \n"
   ]
  },
  {
   "cell_type": "markdown",
   "id": "40127fe4",
   "metadata": {},
   "source": [
    "\n",
    "## Listę pozostałych *dostawców* można sprawdzić w dokumentacji: [faker.readthedocs.io/en/master/providers](https://faker.readthedocs.io/en/master/providers.html)\n",
    "***"
   ]
  },
  {
   "cell_type": "markdown",
   "id": "3d2ef9ed",
   "metadata": {},
   "source": [
    "# Bibioteki community providers\n",
    "\n",
    "Najpopularniejsze bibliotek utworzone przez społeczność to:\n",
    "* `Airtravel` - nazwy oraz kody lotnisk oraz loty\n",
    "* `Music` - Gatunki muzyczne, podgatunki i instrumenty.\n",
    "* `Posts` - różnego rodzaju posty w formacie .md\n",
    "* `Vehicle` - fałszywe informacje na temat pojazdów takie jak: rok, model, marka\n",
    "* `WebProvider` - Dane związane z siecią, takie jak typ MIME i wersje serwera sieci Web.\\\n",
    "* `Credit Score` - dane służące do oceny ryzyka kredytowego\n",
    "* `Mircoservice` - nazwy dla mikroserwsów\n",
    "\n",
    "   \n",
    "   \n",
    "**Aby skorzystać z biblioteki stworzonej przez społeczność musimy najpierw ją zainstalować:**\n",
    "\n",
    "`pip install faker_airtravel`\n",
    "\n",
    "**a następnie zaimportować:**\n",
    "\n",
    "`from faker_airtravel import AirTravelProvider`"
   ]
  },
  {
   "cell_type": "markdown",
   "id": "6323c8c3",
   "metadata": {},
   "source": [
    "### Import biblioteki z modułu `Comunity`"
   ]
  },
  {
   "cell_type": "code",
   "execution_count": 5,
   "id": "f20c4db7",
   "metadata": {},
   "outputs": [],
   "source": [
    "from faker_airtravel import AirTravelProvider"
   ]
  },
  {
   "cell_type": "markdown",
   "id": "225b124f",
   "metadata": {},
   "source": [
    "Za pomocą metody `add_provider(Provider)` dodajemy *dostawcę* przygotowanego przez społeczność i uprzednio zaimportowanego, do naszej głównej instancji biblioteki `Faker`.Innymi słowy za pomocą tej metody **rejestrujemy nowych dostawców**. Od tego momentu z poziomu instancji `fake` możemy korzystać z metod dostarczonych przez nowego *dostawcę*."
   ]
  },
  {
   "cell_type": "code",
   "execution_count": 8,
   "id": "4836f903",
   "metadata": {},
   "outputs": [],
   "source": [
    "fake.add_provider(AirTravelProvider)"
   ]
  },
  {
   "cell_type": "markdown",
   "id": "f2048f67",
   "metadata": {},
   "source": [
    "### Wywołanie przykładowej metody:\n"
   ]
  },
  {
   "cell_type": "code",
   "execution_count": 10,
   "id": "b0303b67",
   "metadata": {},
   "outputs": [
    {
     "data": {
      "text/plain": [
       "{'airport': 'Ministro Pistarini International airport',\n",
       " 'iata': 'EZE',\n",
       " 'icao': 'SAEZ',\n",
       " 'city': 'Ezeiza',\n",
       " 'state': 'Buenos Aires',\n",
       " 'country': 'Argentina'}"
      ]
     },
     "execution_count": 10,
     "metadata": {},
     "output_type": "execute_result"
    }
   ],
   "source": [
    "fake.airport_object()"
   ]
  },
  {
   "cell_type": "code",
   "execution_count": 11,
   "id": "f3602a39",
   "metadata": {},
   "outputs": [
    {
     "name": "stdout",
     "output_type": "stream",
     "text": [
      "Indira Gandhi International airport\n",
      "Norfolk International airport\n",
      "Ingeniero Ambrosio L.V. Taravella International \n",
      "Fuzhou airport\n",
      "Zia International airport Dhaka\n",
      "Baiyun airport\n",
      "Balice airport\n",
      "William P Hobby airport\n",
      "Stuttgart airport\n",
      "Bodo airport\n"
     ]
    }
   ],
   "source": [
    "for i in range(0,10):\n",
    "    x = fake.airport_object()\n",
    "    print(x[\"airport\"])"
   ]
  },
  {
   "cell_type": "markdown",
   "id": "52b1edb3",
   "metadata": {},
   "source": [
    "### Losowy kod lotniska (International Air Transport Association)"
   ]
  },
  {
   "cell_type": "code",
   "execution_count": 12,
   "id": "4b5086a0",
   "metadata": {},
   "outputs": [
    {
     "name": "stdout",
     "output_type": "stream",
     "text": [
      "ABQ\n",
      "ZCO\n",
      "FTE\n",
      "HER\n",
      "FLL\n",
      "SEA\n",
      "CAN\n",
      "BGY\n",
      "SKG\n",
      "DGA\n"
     ]
    }
   ],
   "source": [
    "for i in range(0,10):\n",
    "    print(fake.airport_iata())"
   ]
  },
  {
   "cell_type": "markdown",
   "id": "ae7f6474",
   "metadata": {},
   "source": [
    "### Losowa nazwa lotniska (International Air Transport Association)"
   ]
  },
  {
   "cell_type": "code",
   "execution_count": 13,
   "id": "e8a34bfa",
   "metadata": {},
   "outputs": [
    {
     "name": "stdout",
     "output_type": "stream",
     "text": [
      "Cap C Martinez de Pinillos airport\n",
      "Pune airport\n",
      "Tromso Langnes airport\n",
      "Denver International airport\n",
      "Alicante airport\n",
      "El Plumerillo airport\n",
      "Orlando International airport\n",
      "Glasgow International airport\n",
      "London Stansted International airport\n",
      "Zagreb airport\n"
     ]
    }
   ],
   "source": [
    "for i in range(0,10):\n",
    "    print(fake.airport_name())"
   ]
  },
  {
   "cell_type": "markdown",
   "id": "fc434b46",
   "metadata": {},
   "source": [
    "### Losowy lot"
   ]
  },
  {
   "cell_type": "code",
   "execution_count": 14,
   "id": "7203b341",
   "metadata": {},
   "outputs": [
    {
     "data": {
      "text/plain": [
       "{'airline': 'Nok Air',\n",
       " 'origin': {'airport': 'King Abdul Aziz International airport',\n",
       "  'iata': 'JED',\n",
       "  'icao': 'OEJN',\n",
       "  'city': 'Jeddah',\n",
       "  'state': 'Makka',\n",
       "  'country': 'Saudi Arabia'},\n",
       " 'destination': {'airport': 'Abu Dhabi International airport',\n",
       "  'iata': 'AUH',\n",
       "  'icao': 'OMAA',\n",
       "  'city': 'Abu Dhabi',\n",
       "  'state': 'Abu Dhabi',\n",
       "  'country': 'United Arab Emirates'},\n",
       " 'stops': 'non-stop',\n",
       " 'price': 203}"
      ]
     },
     "execution_count": 14,
     "metadata": {},
     "output_type": "execute_result"
    }
   ],
   "source": [
    "fake.flight()"
   ]
  },
  {
   "cell_type": "markdown",
   "id": "e6b810c2",
   "metadata": {},
   "source": [
    "***\n",
    "## Listę pozostałych *dostawców społeczności* można sprawdzić w dokumentacji: [faker.readthedocs.io/en/master/communityproviders](https://faker.readthedocs.io/en/master/communityproviders.html#)\n",
    "***"
   ]
  },
  {
   "cell_type": "markdown",
   "id": "b78b6ea8",
   "metadata": {},
   "source": [
    "# Dodawanie własnego `Providera` "
   ]
  },
  {
   "cell_type": "markdown",
   "id": "0568ede0",
   "metadata": {},
   "source": [
    "Dodawanie własnych `provider'ów` do instancji klasy `Faker` jest stosunkowo proste. Działamy według ustalonego schematu:   \n",
    "</br>\n",
    "**1.** Importujemy `BaseProvider` - jest to klasa należąca do `faker.providers` z której będziemy dziedziczyli funkcjonalności.</br>\n",
    "**2.** Tworzymy własną klasę - tutaj nazwa jest dowolna, jednak według konwencji przyjętej przez programistów `Faker'a` powinna kończyć się słowem `Provider` - `TwojaNazwaKlasyProvider`. Klasa ta musi dziedziczyć po obiekcie `BaseProvider`.\n",
    "</br>\n",
    "**3.** Następnie definiujemy wewnątrz nowo utworzonej klasy dowolnie wyglądające metody - tutaj mamy dużą swobodę, metod może być kilka, może nawet nie być żadnej. Jednakże każda z metod powinna coś zwracać - może to być liczba, ciąg znaków, lista, słownik - znowu mamy tutaj dużą dowolność. To co zwrócimy z danej metody, dostaniemy przy jej wywołaniu - czyli zwracając konkretną liczbę, lub konkretny ciąg znaków, taką właśnie wartość dostaniemy.\n",
    "</br>\n",
    "**4.** Ostatnim krokiem do dodania naszego `providera` jest jego **rejestracja**. Aby go *zarejestrować* na wcześniej utworzonej przez nas instancji klasy `Faker` wywołujemy metodę `add_provider(Provider)` jako argument podając wcześniej utworzoną przez nas klasę. Od tego momentu bezpośrednio z instancji klasy `Faker` możemy odwoływać się do metod utworzonej przez nas klasy. "
   ]
  },
  {
   "cell_type": "markdown",
   "id": "4f9a0b41",
   "metadata": {},
   "source": [
    "### WeatherForecastProvider - Omówienie przykładu\n"
   ]
  },
  {
   "cell_type": "markdown",
   "id": "98a02d40",
   "metadata": {},
   "source": [
    "Stowrzony przez nas przykładowy `Provider` ma na celu zademonstrowanie w praktyce procesu dodawania własnego *dostawcy* do bazowej instancji klasy `Faker`.\n",
    "\n",
    "### Posiada on dwie metody:  \n",
    "\n",
    "**1.** `random_forecast` - Zadaniem tej metody jest komunikacja z zewnętrznym API w celu **pobrania prognozy pogody na najbliższe 3 dni w formie listy obiektów gdzie każdy z nich zawiera informacje o prognozie z innej godziny.** W tym celu za pomocą biblioteki `requests` łączymy się z zewnętrznym API, oraz pobieramy prognozę pogody na najbliższe 3 dni. Ilość obiektów z prognozą pogody które otrzymamy Z API określa parametr `cnt` przekazywany jako drugi argument do naszej metody `requests.get()`.\n",
    "Gdy już dostaniemy pozytywną odpowiedź z serwera, przchodzimy pętlą `for` po każdym obiekcie z prognozą pogody. Każdy z tych obiektów ma wiele atrybutów, nas najbardziej interesują informacje dostarczane wraz z atrybutem `main`.   \n",
    "</br>\n",
    "**Oto przykładowe dane kryjące się pod tym atrybutem:**\n",
    "```\n",
    "{\n",
    "'temp': 2.28, 'feels_like': -3.04, 'temp_min': 2.28, \n",
    "'temp_max': 2.28, 'pressure': 1017, 'sea_level': 1017, \n",
    "'grnd_level': 990, 'humidity': 90, 'temp_kf': 0\n",
    "}\n",
    "```\n",
    "Wybieramy te z nich które nas najbardziej interesują i przypisujemy je do zmiennych. Następnie do tablicy `probabilities` (która na samym początku jest pustą tablicą), dodajemy słowniki, gdzie wartościami są odczytane przez nas uprzednio zmienne. Na samym końcu używając metody klasy `Faker` - `random_element()` (która zwraca losowo wybrany element z podanej tablicy) jako **parametr podając utworzoną przez nas w pętli tablicę `probabilities`** zwracamy jeden losowy obiekt reprezentujący jedną prognozę pogody. **Dzięki temu zabiegowi nasza metoda `random_forecast` pozwala zwrócić losowy odczyt prognozy pogody.** \n",
    "</br>\n",
    "#### Dokumentacja API z którego korzystaliśmy w tym przykładzie: [openweathermap.org/api/hourly-forecast](https://openweathermap.org/api/hourly-forecast)\n",
    "***\n",
    "\n",
    "**2.** `return_static_value` - ta funkcja ma za zadanie pokazać co się stanie gdy zwrócimy konkretną wartość (lub jak w tym przypadku tablicę wartości), nie używając żadnych mechanizmów związanych z losowością. **Będzie ona zwracana w tej samej postaci przy każdym wywołaniu naszej metody.**"
   ]
  },
  {
   "cell_type": "code",
   "execution_count": 131,
   "id": "4aff00e2",
   "metadata": {},
   "outputs": [],
   "source": [
    "from faker.providers import BaseProvider\n",
    "\n",
    "class WeatherForecastProvider(BaseProvider):    \n",
    "    \n",
    "    def _get_api_key_from_file(self):\n",
    "        API_KEY_FILE = open('WEATHER_API_KEY.txt', 'r')\n",
    "        return API_KEY_FILE.read()\n",
    "    \n",
    "    def random_forecast(self):\n",
    "        URL = 'https://api.openweathermap.org/data/2.5/forecast'\n",
    "        city_name = 'Gliwice'\n",
    "        params = {'q': city_name, 'cnt': 40, 'units': 'metric', 'lang':'pl', 'appid': self._get_api_key_from_file()}\n",
    "        response = requests.get(URL, params=params)\n",
    "        \n",
    "        if response.ok:\n",
    "            forecast_list = response.json().get('list')\n",
    "            probabilities = []\n",
    "            for forecast in forecast_list:\n",
    "                datetime = forecast['dt_txt']\n",
    "                temp = forecast['main']['temp']\n",
    "                humi = forecast['main']['humidity']\n",
    "                pressure = forecast['main']['pressure']\n",
    "                temp_min = forecast['main']['temp_min']\n",
    "                temp_max = forecast['main']['temp_max']\n",
    "                probabilities.append({\n",
    "                    \"temp\": temp,\n",
    "                    \"temp_min\": temp_min,\n",
    "                    \"temp_max\": temp_max,\n",
    "                    \"humi\": humi, \n",
    "                    \"pressure\": pressure,\n",
    "                    \"date_time\": datetime,\n",
    "                })\n",
    "            return fake.random_element(probabilities)   \n",
    "        \n",
    "    def return_static_value(self):\n",
    "        return [\"Test 1\", \"Test 2\", \"Test 3\"]\n",
    " "
   ]
  },
  {
   "cell_type": "code",
   "execution_count": 132,
   "id": "060ab08f",
   "metadata": {},
   "outputs": [
    {
     "name": "stdout",
     "output_type": "stream",
     "text": [
      "Wynik wywołania metody random_forecast(): \n",
      "{'temp': 0.87, 'temp_min': 0.87, 'temp_max': 0.87, 'humi': 91, 'pressure': 1020, 'date_time': '2022-01-27 09:00:00'}\n",
      "{'temp': -0.08, 'temp_min': -0.08, 'temp_max': -0.08, 'humi': 92, 'pressure': 1024, 'date_time': '2022-01-27 03:00:00'}\n",
      "{'temp': 3.4, 'temp_min': 3.4, 'temp_max': 3.4, 'humi': 73, 'pressure': 1013, 'date_time': '2022-01-30 18:00:00'}\n",
      "{'temp': 1.64, 'temp_min': 1.64, 'temp_max': 1.64, 'humi': 91, 'pressure': 1022, 'date_time': '2022-01-28 18:00:00'}\n",
      "{'temp': 2.49, 'temp_min': 2.49, 'temp_max': 2.49, 'humi': 87, 'pressure': 1016, 'date_time': '2022-01-27 15:00:00'}\n",
      "{'temp': 0.13, 'temp_min': 0.13, 'temp_max': 0.13, 'humi': 91, 'pressure': 1022, 'date_time': '2022-01-27 06:00:00'}\n",
      "{'temp': 2.11, 'temp_min': 2.11, 'temp_max': 2.11, 'humi': 96, 'pressure': 1017, 'date_time': '2022-01-29 21:00:00'}\n",
      "{'temp': 3.4, 'temp_min': 3.4, 'temp_max': 3.4, 'humi': 73, 'pressure': 1013, 'date_time': '2022-01-30 18:00:00'}\n",
      "{'temp': 0.68, 'temp_min': 0.68, 'temp_max': 0.68, 'humi': 89, 'pressure': 1016, 'date_time': '2022-01-30 21:00:00'}\n",
      "{'temp': 3.44, 'temp_min': 3.44, 'temp_max': 3.44, 'humi': 79, 'pressure': 1012, 'date_time': '2022-01-30 06:00:00'}\n",
      "\n",
      "\n",
      "============================\n",
      "\n",
      "\n",
      "Wynik wywołania metody return_static_value(): \n",
      "['Test 1', 'Test 2', 'Test 3']\n",
      "['Test 1', 'Test 2', 'Test 3']\n",
      "['Test 1', 'Test 2', 'Test 3']\n",
      "['Test 1', 'Test 2', 'Test 3']\n",
      "['Test 1', 'Test 2', 'Test 3']\n",
      "['Test 1', 'Test 2', 'Test 3']\n",
      "['Test 1', 'Test 2', 'Test 3']\n",
      "['Test 1', 'Test 2', 'Test 3']\n",
      "['Test 1', 'Test 2', 'Test 3']\n",
      "['Test 1', 'Test 2', 'Test 3']\n"
     ]
    }
   ],
   "source": [
    "fake.add_provider(WeatherForecastProvider)\n",
    "\n",
    "print(\"Wynik wywołania metody random_forecast(): \")\n",
    "for _ in range(0,10):\n",
    "    print(fake.random_forecast())\n",
    "print(\"\\n\\n============================\\n\\n\")   \n",
    "print(\"Wynik wywołania metody return_static_value(): \")\n",
    "for _ in range(0,10):\n",
    "    print(fake.return_static_value())\n"
   ]
  },
  {
   "cell_type": "markdown",
   "id": "343fd7d1",
   "metadata": {},
   "source": [
    "***"
   ]
  },
  {
   "cell_type": "markdown",
   "id": "f9430a68",
   "metadata": {},
   "source": [
    "# Zastosowania biblioteki `Faker` w przykładach:"
   ]
  },
  {
   "cell_type": "markdown",
   "id": "f5d1cb0d",
   "metadata": {},
   "source": [
    "## Zapis losowych danych do pliku CSV:"
   ]
  },
  {
   "cell_type": "markdown",
   "id": "296098a5",
   "metadata": {},
   "source": [
    "### Program tworzący plik csv z losowymi danymi - generuje listę losowych osób wraz z miastem oraz krajem i pozwala na stworzenie na tej podstawie arkusza *CSV*. Pozwala on również na wybranie liczby rekordów mających znaleźć się w pliku wynikowym."
   ]
  },
  {
   "cell_type": "code",
   "execution_count": 30,
   "id": "5fe9cae5",
   "metadata": {},
   "outputs": [],
   "source": [
    "CSV_FILE_NAME = \"test.csv\"      \n",
    "CSV_COLUMN_NAMES = [\"names\", \"surname\", \"land\", \"city\"]\n",
    "CSV_HOW_MANY_ITEM = 100"
   ]
  },
  {
   "cell_type": "code",
   "execution_count": 32,
   "id": "776ef413",
   "metadata": {},
   "outputs": [
    {
     "name": "stdout",
     "output_type": "stream",
     "text": [
      "names,surname,land,city\n",
      "Angela,Brown,Thailand,West Scottview\n",
      "Crystal,Johnson,Malawi,Coxside\n",
      "Mary,Tucker,Mongolia,Blevinsburgh\n",
      "Lisa,Richardson,Greece,North Ashley\n",
      "Mark,Morton,Grenada,Ginabury\n",
      "Alex,Mitchell,Estonia,Brownview\n",
      "Christopher,Houston,French Polynesia,Karenstad\n",
      "William,Smith,Uganda,West Tyler\n",
      "Craig,Sullivan,Hungary,New Michael\n",
      "Shawn,Rodriguez,Trinidad and Tobago,Lake Nicole\n",
      "Robert,Santos,United States Virgin Islands,Alyssamouth\n",
      "Jacob,Flores,Liechtenstein,Jenniferfort\n",
      "Terri,Avery,Yemen,Michaelfort\n",
      "Angela,Cervantes,Moldova,West Rodneybury\n",
      "Gregory,Torres,Senegal,South Daniel\n",
      "Derek,Williams,Malaysia,Kelleystad\n",
      "James,Davis,Cook Islands,South Andrewhaven\n",
      "Katie,Butler,Vanuatu,Taylorville\n",
      "Deborah,Dawson,Rwanda,West Christopher\n",
      "Jeff,Vargas,Bahamas,Sarahside\n",
      "Ryan,Schneider,Thailand,Sethside\n",
      "Jordan,Anderson,Spain,Russellbury\n",
      "Daniel,Daugherty,Croatia,Port Angelica\n",
      "Kevin,Jones,Kiribati,Port Williamport\n",
      "John,Santiago,Namibia,New Robinberg\n",
      "Michelle,Schneider,Isle of Man,North Brandon\n",
      "Gregory,Christensen,Trinidad and Tobago,Lake Michael\n",
      "Jared,Chapman,Guadeloupe,Lake Maryborough\n",
      "Alicia,Morrison,Myanmar,South Shaneberg\n",
      "Matthew,Jordan,Heard Island and McDonald Islands,Port Stephanieview\n",
      "Donald,Deleon,Bolivia,Hinesfort\n",
      "Tammy,Casey,Hungary,South Amy\n",
      "Juan,Williams,Poland,Villahaven\n",
      "Andrea,Bush,Micronesia,East Marissaton\n",
      "Richard,Strong,Oman,Erikport\n",
      "Kendra,Nelson,Canada,North Jasonhaven\n",
      "Richard,Hernandez,Kyrgyz Republic,Port Bethchester\n",
      "Alexis,Jenkins,Sao Tome and Principe,New Wesley\n",
      "Jodi,Anderson,Nepal,Timothychester\n",
      "Mark,Bishop,Myanmar,New Marilynhaven\n",
      "Anthony,Patterson,Antigua and Barbuda,Kyleport\n",
      "Elizabeth,Coleman,Burundi,Smithchester\n",
      "David,Doyle,San Marino,Thomasberg\n",
      "Kimberly,Ramsey,Malta,Davidhaven\n",
      "Alejandro,Anderson,Algeria,New Coreybury\n",
      "David,Ross,Angola,South Warrentown\n",
      "Jessica,Johns,Congo,West Jodyberg\n",
      "Shelly,Kaufman,Mexico,South Mirandastad\n",
      "Deanna,Rogers,France,Laratown\n",
      "David,Hernandez,Brunei Darussalam,Andrewmouth\n",
      "Erica,Graves,Uruguay,Donaldtown\n",
      "Danielle,Washington,El Salvador,North Jamieburgh\n",
      "Katherine,Chandler,United Arab Emirates,Samuelhaven\n",
      "William,Kelley,France,Lake Justinmouth\n",
      "Joshua,Henderson,Macedonia,New Jessicaberg\n",
      "Robert,Potts,Bahamas,Port Jeffrey\n",
      "Kevin,Hernandez,Uzbekistan,Butlertown\n",
      "Jason,Sims,Bulgaria,West James\n",
      "Caitlyn,Frank,Greenland,Kathystad\n",
      "Alison,Smith,Papua New Guinea,Lake Emily\n",
      "Deborah,Johnson,Switzerland,Lake Nicole\n",
      "Catherine,Jordan,Peru,Jenniferland\n",
      "Karen,Lewis,Italy,South Jessica\n",
      "Jennifer,Thompson,Mauritania,Kathyville\n",
      "James,Cowan,Saint Helena,East Danielmouth\n",
      "Brenda,Harrington,Bouvet Island (Bouvetoya),Lake Cynthiaville\n",
      "Catherine,Holt,Macedonia,Morrisfort\n",
      "Jessica,Walters,France,Lake Martha\n",
      "Curtis,Maldonado,Mauritania,Tracychester\n",
      "Tracie,Torres,Guatemala,East Jeanette\n",
      "Jennifer,Hood,Kenya,Tylerfort\n",
      "Maria,Clark,Guatemala,Bradleyland\n",
      "Jennifer,Thomas,Peru,Port Carlosbury\n",
      "Jerry,Clark,Turkey,South Angelaport\n",
      "Joshua,Lam,French Southern Territories,Jonesberg\n",
      "Caleb,Simmons,Belize,Holdenhaven\n",
      "Kristin,Kelley,Micronesia,New Rachel\n",
      "Crystal,Hess,Norfolk Island,West Kimberly\n",
      "Mary,Brown,Heard Island and McDonald Islands,South Dawn\n",
      "Larry,Watts,Central African Republic,East Jonathanborough\n",
      "Christopher,Farmer,Saudi Arabia,Dorothyhaven\n",
      "Lisa,Bird,Malawi,Jeremyfort\n",
      "Richard,Burgess,Suriname,Terriview\n",
      "Tammy,Riley,Trinidad and Tobago,Thomasport\n",
      "Tiffany,Miller,Togo,West Julie\n",
      "Cassie,Klein,Croatia,New Sarahbury\n",
      "William,Tapia,Kuwait,Hannahtown\n",
      "Brian,Thornton,Ethiopia,East Malikbury\n",
      "Timothy,Evans,Tokelau,Wadeland\n",
      "Troy,Taylor,Iceland,North Brian\n",
      "Andrea,Mullen,Pitcairn Islands,New Patricia\n",
      "Kim,Barker,Saudi Arabia,Heatherhaven\n",
      "Michelle,Walsh,Seychelles,Williamtown\n",
      "Dawn,Scott,Finland,North Jonathanville\n",
      "David,Lee,Haiti,East Douglasport\n",
      "Katherine,Beck,Antigua and Barbuda,New Jason\n",
      "Sarah,Harrison,Benin,East Lori\n",
      "Andrew,Frazier,Northern Mariana Islands,Lake Rebeccastad\n",
      "Melinda,Crane,Benin,Tammyfurt\n",
      "Julie,Duncan,Maldives,Port Deanville\n",
      "\n"
     ]
    }
   ],
   "source": [
    "from faker import Faker\n",
    "\n",
    "fake = Faker()\n",
    "\n",
    "\n",
    "class csv_creator:\n",
    "    def __init__(self, cols, numbers_of_rows, separator=\",\"):\n",
    "        self.column_names = cols,\n",
    "        self.numbers_of_rows = numbers_of_rows\n",
    "        self.separator = separator\n",
    "        self.csv_string = \"\"\n",
    "\n",
    "    def add_line_to_csv_file(self, elements):\n",
    "        self.csv_string += self.separator.join(elements)\n",
    "\n",
    "    def create_random_csv(self):\n",
    "        self.add_line_to_csv_file(self.column_names[0])\n",
    "        self.csv_string += '\\n'\n",
    "        for i in range(0, self.numbers_of_rows):\n",
    "            row = [fake.first_name(), fake.last_name(), fake.country(), fake.city()]\n",
    "            self.add_line_to_csv_file(row)\n",
    "            self.csv_string += '\\n'\n",
    "            \n",
    "    def save_to_file(self, filename):\n",
    "        f = open(filename, 'w')\n",
    "        f.write(self.csv_string.rstrip()) #Obcinamy zbędne znaki końca linii powodujące zapis pustej linijki do pliku.\n",
    "        f.close()\n",
    "\n",
    "\n",
    "x = csv_creator(CSV_COLUMN_NAMES, CSV_HOW_MANY_ITEM, \",\")\n",
    "x.create_random_csv()\n",
    "print(x.csv_string)\n",
    "x.save_to_file(CSV_FILE_NAME)\n"
   ]
  },
  {
   "cell_type": "markdown",
   "id": "d2d5b9a0",
   "metadata": {},
   "source": [
    "***"
   ]
  },
  {
   "cell_type": "markdown",
   "id": "dcecc10c",
   "metadata": {},
   "source": [
    "## Generator zapytań SQL wstawiający losowe dane do podanej przez nas tabeli"
   ]
  },
  {
   "cell_type": "markdown",
   "id": "dc97f779",
   "metadata": {},
   "source": [
    "### Program pozwalający na stworzenie poprawnego zapytania SQL `INSERT`, z losowo wygenerowanymi danymi. Użytkownik może sterować takimi parametrami jak:\n",
    "#### 1. Nazwa tabeli do której chce wstawić dane (zmienna`TABLE_NAME`),\n",
    "#### 2. Ilość rekordów które chce wstawić do danej tabeli (zmienna `SQL_HOW_MANY_VALUES`),\n",
    "#### 3. Nazwy kolumn w tabeli w formie listy (zmienna `COLUMNS`),\n",
    "#### 4. Nazwa pliku w którym chcemy zapisać nasze zapytanie (zmienna `FILE_NAME`).\n"
   ]
  },
  {
   "cell_type": "code",
   "execution_count": 167,
   "id": "6a31ef73",
   "metadata": {},
   "outputs": [],
   "source": [
    "TABLE_NAME = \"test_table\"   \n",
    "SQL_HOW_MANY_VALUES = 10\n",
    "COLUMNS = ['Username', \"Name\", \"AdDress\", \"Email\", \"Phone Number\"]  \n",
    "FILE_NAME = \"test_query.sql\""
   ]
  },
  {
   "cell_type": "code",
   "execution_count": 168,
   "id": "6a630b31",
   "metadata": {},
   "outputs": [],
   "source": [
    "def create_sql_insert_query(TABLE_NAME, COLUMNS, NUM_OF_ITERATION):\n",
    "    \"\"\"\n",
    "        Funkcja pozwalająca na stworzenie poprawnego zapytania INSERT z losowymi wartościami\n",
    "    \"\"\"\n",
    "    values = []\n",
    "    for i in range(0, NUM_OF_ITERATION):\n",
    "        values.append([\n",
    "                polish_localized_faker.simple_profile()['username'],\n",
    "                polish_localized_faker.simple_profile()['name'],\n",
    "                polish_localized_faker.simple_profile()['address'],\n",
    "                polish_localized_faker.simple_profile()['mail'],\n",
    "                polish_localized_faker.phone_number()\n",
    "        ])\n",
    "\n",
    "    connected_values = []  \n",
    "    for value in values:\n",
    "        connected_values.append('(\"' + '\",\"'.join(str(x) for x in value) + '\")')\n",
    "\n",
    "    return f\"INSERT INTO `{TABLE_NAME}` ({', '.join(COLUMNS)}) VALUES {','.join(str(x) for x in connected_values)}\""
   ]
  },
  {
   "cell_type": "code",
   "execution_count": 169,
   "id": "bd0117b6",
   "metadata": {},
   "outputs": [],
   "source": [
    "def save_sql_query_to_file(FILE_NAME, sql_query):\n",
    "    \"\"\"\n",
    "        Funkcja zapisująca zapytanie SQL do pliku\n",
    "    \"\"\"\n",
    "    f = open(FILE_NAME, 'w', encoding=\"utf-8\")\n",
    "    f.write(sql_query) #Obcinamy zbędne znaki końca linii powodujące zapis pustej linijki do pliku.\n",
    "    f.close()"
   ]
  },
  {
   "cell_type": "code",
   "execution_count": 170,
   "id": "f02dbc8d",
   "metadata": {},
   "outputs": [
    {
     "data": {
      "text/plain": [
       "'INSERT INTO `test_table` (Username, Name, AdDress, Email, Phone Number) VALUES (\"zwichary\",\"Paweł Krüger\",\"aleja Królewska 90/99\\n85-748 Nowa Ruda\",\"danielkazberuk@gmail.com\",\"+48 22 755 54 55\"),(\"sebastian26\",\"Andrzej Sudnik\",\"aleja Fabryczna 70\\n29-204 Tarnobrzeg\",\"drozdzaljacek@hotmail.com\",\"881 917 235\"),(\"wypchlomikolaj\",\"Nicole Radke\",\"pl. Piastowska 68\\n10-101 Kwidzyn\",\"umaszczyk@onet.pl\",\"574 488 734\"),(\"marikalinek\",\"pan Cyprian Ryguła\",\"plac Kazimierza Wielkiego 925\\n33-179 Sosnowiec\",\"franciszekwendt@gmail.com\",\"+48 734 006 329\"),(\"ingabialous\",\"Mieszko Trybus\",\"ulica Zielna 705\\n24-666 Wyszków\",\"lkochman@onet.pl\",\"697 203 806\"),(\"sebastian78\",\"Jerzy Subocz\",\"plac Koralowa 95/45\\n19-063 Malbork\",\"anna-mariadawidczyk@onet.pl\",\"+48 32 571 01 75\"),(\"holbrych\",\"pani Karina Pniak\",\"aleja Młynarska 35\\n34-665 Żory\",\"kijankamarcin@yahoo.com\",\"602 756 623\"),(\"stefankarol\",\"pan Karol Łosiewicz\",\"aleja Myśliwska 96\\n88-593 Kraśnik\",\"ipawlukiewicz@o2.pl\",\"+48 720 459 094\"),(\"natandabal\",\"Lidia Cabała\",\"aleja Stefana Batorego 76\\n08-237 Ruda Śląska\",\"warwasaniela@onet.pl\",\"+48 724 380 497\"),(\"starostkaiwo\",\"Marcin Kafel\",\"aleja Letnia 496\\n36-120 Ruda Śląska\",\"jerzy64@onet.pl\",\"791 883 002\")'"
      ]
     },
     "execution_count": 170,
     "metadata": {},
     "output_type": "execute_result"
    }
   ],
   "source": [
    "query_string = create_sql_insert_query(TABLE_NAME, COLUMNS, SQL_HOW_MANY_VALUES)\n",
    "save_sql_query_to_file(FILE_NAME, query_string)\n",
    "query_string"
   ]
  },
  {
   "cell_type": "markdown",
   "id": "41245d85",
   "metadata": {},
   "source": [
    "***"
   ]
  },
  {
   "cell_type": "markdown",
   "id": "eaf038c6",
   "metadata": {},
   "source": [
    "## Generator haseł losowych:\n"
   ]
  },
  {
   "cell_type": "markdown",
   "id": "006daf2e",
   "metadata": {},
   "source": [
    "### Program pozwalający na wygenerowanie określonej przez użytkownika liczby losowych haseł. Użytkownik również może podać *minimalną* oraz *maksymalną* długość pojedynczego hasła. Wyniki dostajemy w postaci tablicy w kótrej każdy rekord stanowi jedno wygenerowane przez program hasło."
   ]
  },
  {
   "cell_type": "code",
   "execution_count": 7,
   "id": "983fa0af",
   "metadata": {},
   "outputs": [],
   "source": [
    "PASSWORD_MIN_LENGTH = 15\n",
    "PASSWORD_MAX_LENGTH = 30\n",
    "AMOUNT_OF_PASSWORDS = 10"
   ]
  },
  {
   "cell_type": "code",
   "execution_count": 19,
   "id": "6434506a",
   "metadata": {},
   "outputs": [],
   "source": [
    "def generate_random_password(PASSWORD_MIN_LENGTH=20, PASSWORD_MAX_LENGTH=40, AMOUNT_OF_PASSWORDS=15):\n",
    "    \n",
    "    to_use_in_password = string.ascii_lowercase + string.ascii_uppercase + string.digits + string.punctuation \n",
    "    symbols = ('?', '#')\n",
    "    all_passwords = []\n",
    "    \n",
    "    for i in range(0, AMOUNT_OF_PASSWORDS):\n",
    "        password_length = fake.random_int(min=PASSWORD_MIN_LENGTH, max=PASSWORD_MAX_LENGTH)\n",
    "        text = fake.random_choices(elements=symbols, length=password_length)\n",
    "        password = fake.bothify(text=\"\".join(text), letters=to_use_in_password)\n",
    "        all_passwords.append(password)\n",
    "        print(f\"{i + 1}. {password}\")\n",
    "        \n",
    "    return all_passwords   "
   ]
  },
  {
   "cell_type": "code",
   "execution_count": 20,
   "id": "1d7c76bf",
   "metadata": {},
   "outputs": [
    {
     "name": "stdout",
     "output_type": "stream",
     "text": [
      "1. 4ey#u35N634N4,18E5Lp4\n",
      "2. *97v7hBt312iIs7YIo\n",
      "3. 7252GZ3L3Z0B3K45D673`\n",
      "4. b,#;O31J92b&6/31\n",
      "5. 1d2C9n11h4;8096t7w21692,l1444\n",
      "6. 9484250757f3`@4&u;577\n",
      "7. 362i93gb33>A%54m+1q795z2*\n",
      "8. 59C0-95r2106))7\n",
      "9. 29`86)q4F:4+W8>8\n",
      "10. a596FS30:81E7P4856l)0`124'405\n"
     ]
    },
    {
     "data": {
      "text/plain": [
       "['4ey#u35N634N4,18E5Lp4',\n",
       " '*97v7hBt312iIs7YIo',\n",
       " '7252GZ3L3Z0B3K45D673`',\n",
       " 'b,#;O31J92b&6/31',\n",
       " '1d2C9n11h4;8096t7w21692,l1444',\n",
       " '9484250757f3`@4&u;577',\n",
       " '362i93gb33>A%54m+1q795z2*',\n",
       " '59C0-95r2106))7',\n",
       " '29`86)q4F:4+W8>8',\n",
       " \"a596FS30:81E7P4856l)0`124'405\"]"
      ]
     },
     "execution_count": 20,
     "metadata": {},
     "output_type": "execute_result"
    }
   ],
   "source": [
    "generate_random_password(PASSWORD_MIN_LENGTH, PASSWORD_MAX_LENGTH, AMOUNT_OF_PASSWORDS)"
   ]
  },
  {
   "cell_type": "markdown",
   "id": "148afa44",
   "metadata": {},
   "source": [
    "***"
   ]
  },
  {
   "cell_type": "markdown",
   "id": "72d4cc28",
   "metadata": {},
   "source": [
    "# Pseudolosowość oraz zmiana ziarna"
   ]
  },
  {
   "cell_type": "markdown",
   "id": "1819159f",
   "metadata": {},
   "source": [
    "Jak wspomnieliśmy we wprowadzeniu dane generowane za pomocą systemów komputerowych nie są w pełni losowe. `Faker` jak również inne generatory danych losowych korzysta z tzw. **ziarna** do obliczania prawdopodobieństwa wystąpienia danego wyniku. Znając wartość tego *ziarna* jesteśmy w stanie otrzymać dokładnie ten sam wynik wiele razy, co pokazuje poniższy przykład. "
   ]
  },
  {
   "cell_type": "markdown",
   "id": "c8f82f8a",
   "metadata": {},
   "source": [
    "## `.seed_instance()` - funkcja pozwalająca na zmianę *ziarna* dla generatora"
   ]
  },
  {
   "cell_type": "markdown",
   "id": "c7d14d3f",
   "metadata": {},
   "source": [
    "**Use case:** `Faker` często jest wykorzystywany przy testach jednostkowych. Programiści często będą chcieli wygenerować ten sam zbiór danych. Między innymi dla tych właśnie potrzeb biblioteka dostarcza nam metodę seed_instance(), dzięki której możemy w dowolnym momencie tworzyć te same dane za pomocą tych samych metod."
   ]
  },
  {
   "cell_type": "markdown",
   "id": "907e13f5",
   "metadata": {},
   "source": [
    "#### Utworzenie seedu 4321 i wygenerowanie losowych imion"
   ]
  },
  {
   "cell_type": "code",
   "execution_count": 151,
   "id": "4d1e1214",
   "metadata": {},
   "outputs": [
    {
     "name": "stdout",
     "output_type": "stream",
     "text": [
      "Jonathan\n",
      "Rick\n",
      "Bryan\n",
      "Gregory\n",
      "Michael\n",
      "Rebecca\n",
      "Bobby\n",
      "Jacob\n",
      "Brian\n",
      "Kelly\n"
     ]
    }
   ],
   "source": [
    "fake.seed_instance(4321)\n",
    "for _ in range(0,10):\n",
    "    print(fake.first_name())"
   ]
  },
  {
   "cell_type": "markdown",
   "id": "48982ab2",
   "metadata": {},
   "source": [
    "#### Wygenerowanie losowego imienia"
   ]
  },
  {
   "cell_type": "code",
   "execution_count": 150,
   "id": "05977429",
   "metadata": {},
   "outputs": [
    {
     "data": {
      "text/plain": [
       "'Carrie'"
      ]
     },
     "execution_count": 150,
     "metadata": {},
     "output_type": "execute_result"
    }
   ],
   "source": [
    "fake.first_name()"
   ]
  },
  {
   "cell_type": "markdown",
   "id": "1d31f006",
   "metadata": {},
   "source": [
    "#### Ponowne wygenerowanie  imion na podstawie seedu 4321"
   ]
  },
  {
   "cell_type": "code",
   "execution_count": 149,
   "id": "667e51af",
   "metadata": {},
   "outputs": [
    {
     "name": "stdout",
     "output_type": "stream",
     "text": [
      "Jonathan\n",
      "Rick\n",
      "Bryan\n",
      "Gregory\n",
      "Michael\n",
      "Rebecca\n",
      "Bobby\n",
      "Jacob\n",
      "Brian\n",
      "Kelly\n"
     ]
    }
   ],
   "source": [
    "fake.seed_instance(4321)\n",
    "for _ in range(0,10):\n",
    "    print(fake.first_name())"
   ]
  },
  {
   "cell_type": "markdown",
   "id": "2f1460bc",
   "metadata": {},
   "source": [
    "#### Wygenerowanie imienia z innym seedem"
   ]
  },
  {
   "cell_type": "code",
   "execution_count": 136,
   "id": "15a493a0",
   "metadata": {},
   "outputs": [
    {
     "data": {
      "text/plain": [
       "'Stephanie'"
      ]
     },
     "execution_count": 136,
     "metadata": {},
     "output_type": "execute_result"
    }
   ],
   "source": [
    "fake.seed_instance(2)\n",
    "fake.first_name()"
   ]
  },
  {
   "cell_type": "markdown",
   "id": "f74816d0",
   "metadata": {},
   "source": [
    "***"
   ]
  },
  {
   "cell_type": "markdown",
   "id": "79bf57b8",
   "metadata": {},
   "source": [
    "# Dodawanie własnego zestawu danych i przyczynianie się do rozwoju biblioteki"
   ]
  },
  {
   "cell_type": "markdown",
   "id": "4d78c38f",
   "metadata": {},
   "source": [
    "Aby dołączyć swój zbiór danych trzeba:\n",
    "\n",
    "1. Sklonować repoztyorium fakera\n",
    "2. Stworzyć odpowiednią klasę\n",
    "3. Trzymać się dobrych praktyk programistycznych oraz konwencji całego projektu, aby nasz provider nie odbiegał swoim wyglądem lub działaniem od innych\n",
    "4. Odpowiednio udokumentować kod\n",
    "5. Od swojego brancha utworzyć Pull Request, który przejdzie przez procedurę code review użytkowników zarządzających repozytorium\n",
    "\n",
    "Aby nasz provder został zaakceptowany musi posiadać:\n",
    "\n",
    "* Testy jednostkowe lub automatyczne\n",
    "* Provider musi być opublikowany na PyPI\n",
    "* Musi posiadać licencję OSI-Approved\n",
    "* Nie może ponownie wykrzystywać żadnej funkcjonalności już zawrtej w bibliotece Faker\n",
    "* Nie może zawierać żadnych wulgaryzmów ani w kodzie, ani w dokumentacji.\n",
    "* Nie może zawierać żadnego złośliwego ani zbierającego dane kodu."
   ]
  },
  {
   "cell_type": "markdown",
   "id": "b96c2006",
   "metadata": {},
   "source": [
    "***"
   ]
  },
  {
   "cell_type": "markdown",
   "id": "5e97fc29",
   "metadata": {},
   "source": [
    "# Bibliografia oraz użyte źródła:\n"
   ]
  },
  {
   "cell_type": "markdown",
   "id": "718cb86e",
   "metadata": {},
   "source": [
    "#### [1] https://faker.readthedocs.io/     \n",
    "#### [2] https://pypi.org/project/Faker/   \n",
    "#### [3] https://github.com/joke2k/faker   \n",
    "#### [4] https://lyz-code.github.io/blue-book/coding/python/faker/  \n",
    "#### [5] https://openweathermap.org/api/hourly-forecast"
   ]
  },
  {
   "cell_type": "markdown",
   "id": "a943fe60",
   "metadata": {},
   "source": [
    "# //TODO POPRAWIĆ SPIS TREŚCI"
   ]
  },
  {
   "cell_type": "markdown",
   "id": "6712b7be",
   "metadata": {},
   "source": [
    "# //TODO SPRAWDZIĆ ORAZ POPRAWIĆ BŁĘDY ORTOGRAFICZNE I LITERÓWKI: https://www.ortograf.pl/"
   ]
  },
  {
   "cell_type": "code",
   "execution_count": null,
   "id": "a3c91b5a",
   "metadata": {},
   "outputs": [],
   "source": []
  }
 ],
 "metadata": {
  "kernelspec": {
   "display_name": "Python 3 (ipykernel)",
   "language": "python",
   "name": "python3"
  },
  "language_info": {
   "codemirror_mode": {
    "name": "ipython",
    "version": 3
   },
   "file_extension": ".py",
   "mimetype": "text/x-python",
   "name": "python",
   "nbconvert_exporter": "python",
   "pygments_lexer": "ipython3",
   "version": "3.9.7"
  }
 },
 "nbformat": 4,
 "nbformat_minor": 5
}
