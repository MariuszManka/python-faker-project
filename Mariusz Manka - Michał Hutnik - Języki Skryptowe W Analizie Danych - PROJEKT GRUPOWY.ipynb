{
 "cells": [
  {
   "cell_type": "markdown",
   "id": "5a8a8c08",
   "metadata": {},
   "source": [
    "## Mariusz Mańka, Michał Hutnik\n",
    "## Informatyka - niestajconarnie - V semestr \n",
    "## Wydział Matematyki Stosowanej\n",
    "## Przedmiot: Python w Analizie Danych\n",
    "## Projekt Grupowy - Wprowadzenie do biblioteki Faker"
   ]
  },
  {
   "cell_type": "markdown",
   "id": "a302dd80",
   "metadata": {},
   "source": [
    "***\n",
    "\n",
    "# Wprowadzenie do biblioteki Faker\n",
    "\n",
    "### Spis treści:\n",
    "1. Wprowadzenie do tematu\n",
    "2. Import biblioteki Faker oraz innych niezbędnych bibliotek\n",
    "3. Tworzenie instancji klasy `Faker`.\n",
    "4. Lokalizacja\n",
    "5. Podstawowe funkcje\n",
    "\n",
    "\n",
    "***\n"
   ]
  },
  {
   "cell_type": "markdown",
   "id": "a2882fc5",
   "metadata": {},
   "source": [
    "### Losowość w systemach komputerowych\n",
    "//TODO UZUPEŁNIĆ\n",
    "\n",
    "\n",
    "### Czym są *dane losowe*?\n",
    "*Dane losowe* nazywane również fikcyjnymi - jak sama nazwa wskazuje są to losowo generowane dane, najczęściej z jakiegoś określonego zakresu. Z założenia mają one być fałszywe, przy jednoczesym jak najwięszym zbliżeniu do danych faktycznych. Innymi słowy - losowo generowana para - imię i nazwisko - będzie zawierała imię oraz nazwisko jak najbardziej zbliżone do używanych w danym języku, tak aby dane wydawały się być prawdziwe, a jednocześnie nie wskazywały na konkretną osobę.   \n",
    "\n",
    "### Gdzie używane są *dane losowe*?\n",
    "Takie dane mają stanowić substytut lub obiekt zastępczy dla prawdziwych danych. Używane są najczęściej do celów **testowych i operacyjnych**. Wykorzystuje się je między innymi:\n",
    "- Do zapełniania baz danych losowymi rekordami, \n",
    "- Jako zastępstwo faktycznych danych na stronach internetowych na etapie developmentu aplikacji\n",
    "- Na etapie testów apllikacji - aby sprawdzić jak napisany przez nas kod reaguje na różnego rodzaju dane wejściowe\n",
    "- Przy mockowaniu odpowiedzi np. z serwera API\n",
    "\n",
    "### Czym jest Faker?\n",
    "`Faker` **jest pythonową biblioteką pozwalającą na generowanie losowych danych różnego typu**.\n",
    "\n",
    "### Faker - licencja\n",
    "Biblioteka `Faker` udostępniana jest na zasadach bardzo popularnej **open-source'owej licencji MIT**. Według definicji jest to jedna z najprostszych i najbardziej liberalnych licencji otwartego oprogramowania. Daje użytkownikom **nieograniczone prawo do używania, kopiowania, modyfikowania i rozpowszechniania oryginalnego lub zmodyfikowanego programu** w postaci binarnej lub źródłowe. Oznacza to że każdy programista może bez żadnych konsekwencji kopiować kod źródłowy biblioteki, modyfikować go wedle własnych potrzeb, oraz korzystać ze zmodyfikowanej jego wersji. Każdy z programistów może również poprawiać zgłoszone błędy oraz udostępniać poprawiony kod innym. \n",
    "\n",
    "### Faker - instalacja \n",
    "Instalacja tej biblioteki przebiega analogicznie jak w przypadku pozostałych bibliotek pythona. Możemy to zrobić za pomocą polecenia: \n",
    "```cmd\n",
    "pip install Faker\n",
    "```\n",
    "Należy zwrócić uwagę na to że nazwa biblioteki pisana jest z wielkiej litery. Aby zainstalować bibliotekę za pomocą pakietu `Anaconda` wywołujemy polecenie: \n",
    "```cmd\n",
    "conda install Faker\n",
    "```\n",
    "Należy to zrobić z poziomu programu konsoli pakietu `Anaconda` - **Anaconda Prompt**\n",
    "\n",
    "### Kompatybilność\n",
    "Jak możemy przeczytać na stronie dokumentacji biblioteki `Faker` - \"Począwszy od wersji `4.0.0` Faker **porzucił wsparcie dla Pythona 2**, a od wersji `5.0.0` obsługuje **tylko Pythona 3.6 i nowsze.\"** Jeśli nasz projekt używa **pythona w wersji 2, powinniśmy zainstalować Faker'a w wersji** `3.0.1`."
   ]
  },
  {
   "cell_type": "markdown",
   "id": "9e975e93",
   "metadata": {},
   "source": [
    "***\n",
    "### Pełną dokumentację projektu `Faker` można znaleźć pod adresem: [faker.readthedocs.io/en/master](https://faker.readthedocs.io/en/master/index.html)\n",
    "### Kod źródłowy projektu `Faker` można znaleźć pod adresem: [github.com/joke2k/faker/tree/master](https://github.com/joke2k/faker/tree/master)\n",
    "***"
   ]
  },
  {
   "cell_type": "markdown",
   "id": "e4071e7e",
   "metadata": {},
   "source": [
    "# Podstawowe pojęcia dotyczące biblioteki\n"
   ]
  },
  {
   "cell_type": "markdown",
   "id": "c750f450",
   "metadata": {},
   "source": [
    "## 1. Providers (Dostawcy):"
   ]
  },
  {
   "cell_type": "markdown",
   "id": "1a4b5786",
   "metadata": {},
   "source": [
    "Pojęcie to jest kluczowe w zrozumieniu działania oraz mechaniki klasy `Faker`. **Dostawców** można zdefiniować jako pewną grupę funkcji, realizującą konkretne zadanie oraz należącą do klasy bazowej `Faker`   \n",
    "**Podstawowi *Dostawcy* to między innymi:**  \n",
    "1. [`faker.providers.address`](https://faker.readthedocs.io/en/master/providers/faker.providers.address.html) - zawiera on funkcje pozwalające zwrócić np. losowy adres zamieszkania, losową ulicę, miasto, numer domu itd.\n",
    "2. [`faker.providers.currency`](https://faker.readthedocs.io/en/master/providers/faker.providers.currency.html) - zawiera on m.in. funkcje zwracające krotkę z losową walutą (lub kryptowalutą) jako parę - (`kod_waluty`, `nazwa_waluty`), nazwę waluty, kod waluty, symbol waluty itd.\n",
    "3. [`faker.providers.person`](https://faker.readthedocs.io/en/master/providers/faker.providers.person.html) - zawiera funkcje zwracające m.in. imię, nazwisko (zarówno losowo męskie i damskie, jak i oddzielnie tylko męskie bądź też tylko damskie), parę imię i nazwisko, przedrostek np. \"inż\" lub \"dr\" itd. \n",
    "4. Bardzo ciekawym *dostawcą*, wartym wspomnienia jest: [`faker.providers.profile`](https://faker.readthedocs.io/en/master/providers/faker.providers.profile.html) - posiada on tylko dwie funkcje `profile` oraz `simple_profile`. Zwracają one profil danej osoby w postaci słownika, z takimi informacjami jak: **imię**, **nazwisko**, **data urodzenia**, **adres**, **grupa krwi**, **nazwa użytkownika**, **strona internetowa**, **adres e-mail** i wiele więcej. Innymi słowy, te funkcje zwracają kompletny profil użytkownika, który można bez problemu wykorzystać np. do mockowania bazy danych użytkowników.\n",
    "\n",
    "#### **Lista wszystkich podstawowych *dostawców* jest dostepna pod adresem**: [`faker.readthedocs.io/en/master/providers`](https://faker.readthedocs.io/en/master/providers.html)\n"
   ]
  },
  {
   "cell_type": "markdown",
   "id": "a26eb831",
   "metadata": {},
   "source": [
    "## 2. Community Providers (Dostawcy społeczności):\n",
    "Jest to grupa dostawców zaprojektowana **przez społeczność**. `Faker` daje możliwość tworzenia swoich własnych *dostawców*, z własnymi funkcjonalnościami. Najczęsciej tacy *dostawcy* używani są przez programistów tylko w lokalnym projekcie na własne potrzeby, natomiast twórcy biblioteki dają nam możliwość publikacji naszego *dostawcy* i dołączenia go do oficjalnego projektu. Istnieje taka możliwość, jednakże wcześniej trzeba spełnić szereg wymagań opisanych dokładniej na stronie: [`faker.readthedocs.io/en/master/communityproviders`](https://faker.readthedocs.io/en/master/communityproviders.html) (tutaj również znajdziemy listę *dostawców* społeczności już dołączonych do projektu)"
   ]
  },
  {
   "cell_type": "markdown",
   "id": "45680015",
   "metadata": {},
   "source": [
    "## 3. Localized Providers (Lokalizowani dostawcy)\n",
    "`Faker` daje nam możliwość lokalizacji zwracanych wyników (co będzie szerzej omówione w dalszej części projektu). W sekcji **Localized Providers** możemy sprawdzić którzy *dostawcy* wspierają lokalizację której chcemy użyć do mockowania danych.   \n",
    "**Informacje te możemy znaleźć pod adresem:** [`faker.readthedocs.io/en/master/locales`](https://faker.readthedocs.io/en/master/locales.html)\n",
    "***"
   ]
  },
  {
   "cell_type": "markdown",
   "id": "68ae413a",
   "metadata": {},
   "source": [
    "# Import niezbędnych bibliotek\n"
   ]
  },
  {
   "cell_type": "code",
   "execution_count": 38,
   "id": "44f309bc",
   "metadata": {},
   "outputs": [],
   "source": [
    "from faker import Faker"
   ]
  },
  {
   "cell_type": "markdown",
   "id": "bfdcfcdb",
   "metadata": {},
   "source": [
    "# Tworzenie instancji klasy Faker\n",
    "Aby skorzystać z biblioteki, pierwsze co musimy zrobić to wywołanie instancji klasy `Faker` na której będziemy pracować w dalszej części projektu."
   ]
  },
  {
   "cell_type": "code",
   "execution_count": 39,
   "id": "96e0ea66",
   "metadata": {},
   "outputs": [
    {
     "data": {
      "text/plain": [
       "<faker.proxy.Faker at 0x1df26fc81c0>"
      ]
     },
     "execution_count": 39,
     "metadata": {},
     "output_type": "execute_result"
    }
   ],
   "source": [
    "fake = Faker()\n",
    "fake"
   ]
  },
  {
   "cell_type": "markdown",
   "id": "c667f407",
   "metadata": {},
   "source": [
    "# Lokalizacja\n",
    "Bardzo ważnym aspektem, wartym omówienia w nawiązaniu do tematu tworzenia instancji klasy `Faker` - jest **lokalizacja**.   \n",
    "Biblioteka ta wspiera **ponad 180 języków z podziałem na różne kody dla wybranych języków.** W tym zestawieniu znajduje się oczywiście **również język polski.** Listę wspieranych języków można znaleźć w kodzie źródłowym projektu na Githubie: \n",
    "[github.com/joke2k/faker/blob/master/faker/providers/__init__.py](https://github.com/joke2k/faker/blob/master/faker/providers/__init__.py)   \n",
    "Do sprawdzenia obecnej lokalizacji służy atrybut `locales`. Domyślną jego wartością jest wartość `en_US` wskazująca amerykańską odmianę języka angielskiego."
   ]
  },
  {
   "cell_type": "code",
   "execution_count": 3,
   "id": "b5071d8c",
   "metadata": {},
   "outputs": [
    {
     "data": {
      "text/plain": [
       "['en_US']"
      ]
     },
     "execution_count": 3,
     "metadata": {},
     "output_type": "execute_result"
    }
   ],
   "source": [
    "fake.locales"
   ]
  },
  {
   "cell_type": "markdown",
   "id": "f2f3c7a4",
   "metadata": {},
   "source": [
    "### Można to zachowanie jednak zmienić, podając interesujący nas kod kraju jako parametr konstruktora klasy `Faker` jak w przykładzie poniżej:"
   ]
  },
  {
   "cell_type": "code",
   "execution_count": 4,
   "id": "c5515054",
   "metadata": {},
   "outputs": [
    {
     "data": {
      "text/plain": [
       "['pl_PL']"
      ]
     },
     "execution_count": 4,
     "metadata": {},
     "output_type": "execute_result"
    }
   ],
   "source": [
    "polish_localized_faker = Faker('pl_PL')\n",
    "polish_localized_faker.locales"
   ]
  },
  {
   "cell_type": "code",
   "execution_count": 5,
   "id": "da580bd6",
   "metadata": {},
   "outputs": [
    {
     "name": "stdout",
     "output_type": "stream",
     "text": [
      "Dominik Bąbol\n",
      "Dagmara Łągiewka\n",
      "Sonia Krajniak\n",
      "Albert Froń\n",
      "pan Alan Prostak\n"
     ]
    }
   ],
   "source": [
    "for i in range(0,5):\n",
    "    print(polish_localized_faker.name())"
   ]
  },
  {
   "cell_type": "markdown",
   "id": "01b83c9b",
   "metadata": {},
   "source": [
    "### Kolejną funkcjonalnością wartą uwagi jest fakt iż jako parametr do lokalizacji **możemy podać tablicę kilku różnych kodów krajów**. Co ciekawe zadziała to tak że w rezultacie dostaniemy dane zlokalizowane według podanych przez nas kodów z **losowym prawdopodobieństwem wystąpienia wyniku w danym języku.** Funkcjonalność ta dostępna jest dopiero od wersji `3.0.0` co oznacza że dla Pythona w wersji `2` również jest ona dostępna."
   ]
  },
  {
   "cell_type": "code",
   "execution_count": 6,
   "id": "8807fa47",
   "metadata": {},
   "outputs": [
    {
     "data": {
      "text/plain": [
       "['ru_RU', 'pl_PL', 'ja_JP', 'it_IT']"
      ]
     },
     "execution_count": 6,
     "metadata": {},
     "output_type": "execute_result"
    }
   ],
   "source": [
    "country_codes_array = ['ru_RU', 'pl_PL', 'ja_JP', 'it_IT']\n",
    "multi_country_codes_faker = Faker(country_codes_array)\n",
    "multi_country_codes_faker.locales"
   ]
  },
  {
   "cell_type": "markdown",
   "id": "fff54161",
   "metadata": {},
   "source": [
    "### Jak widać na poniższym przykładzie który zwraca w pętli losowo wygenerowane imiona i nazwiska, procentowy udział danego języka w rezultatach może być naprawdę różny."
   ]
  },
  {
   "cell_type": "code",
   "execution_count": 7,
   "id": "c82414e3",
   "metadata": {},
   "outputs": [
    {
     "name": "stdout",
     "output_type": "stream",
     "text": [
      "Jerzy Drobnik\n",
      "山田 拓真\n",
      "Савельев Давыд Фёдорович\n",
      "Синклитикия Александровна Костина\n",
      "==============================\n",
      "清水 さゆり\n",
      "Elisa Argenti\n",
      "高橋 くみ子\n",
      "木村 真綾\n"
     ]
    }
   ],
   "source": [
    "for i in range(0,4):\n",
    "    print(multi_country_codes_faker.name())\n",
    "    \n",
    "print(\"==============================\")\n",
    "\n",
    "for i in range(0,4):\n",
    "    print(multi_country_codes_faker.name())"
   ]
  },
  {
   "cell_type": "markdown",
   "id": "2e01c2da",
   "metadata": {},
   "source": [
    "# Podstawowe funkcje"
   ]
  },
  {
   "cell_type": "markdown",
   "id": "5da2366c",
   "metadata": {},
   "source": [
    "## 1.1. `faker.providers.person` \n",
    "**Pełen opis metod tego *dostawcy* można znaleźć pod adresem:** [faker.readthedocs.io/en/master/providers/faker.providers.person](https://faker.readthedocs.io/en/master/providers/faker.providers.person.html) "
   ]
  },
  {
   "cell_type": "code",
   "execution_count": 81,
   "id": "4c2f2f90",
   "metadata": {},
   "outputs": [
    {
     "name": "stdout",
     "output_type": "stream",
     "text": [
      "Metoda zwracająca imię - first_name(): \n",
      "Marika\n",
      "=================\n",
      "\n",
      "Metoda zwracająca nazwisko - last_name(): \n",
      "Woronko\n",
      "=================\n",
      "\n",
      "Metoda zwracająca tylko damskie imię - first_name_female():\n",
      "Klara, Eliza, Ewa, Elżbieta, Urszula, Kamila, Julita, Sara, Roksana, Kalina, \n",
      "=================\n",
      "\n",
      "Metoda zwracająca tylko męskie imię first_name_male(): \n",
      "Leon, Kacper, Marek, Ernest, Antoni, Witold, Krzysztof, Mieszko, Tymoteusz, Juliusz, \n",
      "=================\n",
      "\n",
      "\n",
      "Metoda zwracająca przedrostek - prefix(): \n",
      "pani\n",
      "=================\n",
      "\n",
      "Metoda zwracająca parę imię i nazwisko - name(): \n",
      "Ada Rogacz\n",
      "=================\n",
      "\n"
     ]
    }
   ],
   "source": [
    "print(\"Metoda zwracająca imię - first_name(): \")\n",
    "print(polish_localized_faker.first_name(), end='\\n=================\\n\\n')\n",
    "\n",
    "print(\"Metoda zwracająca nazwisko - last_name(): \")\n",
    "print(polish_localized_faker.last_name(), end='\\n=================\\n\\n')\n",
    "\n",
    "print(\"Metoda zwracająca tylko damskie imię - first_name_female():\")\n",
    "for i in range(0,10):\n",
    "    print(polish_localized_faker.first_name_female(), end=', ')\n",
    "print('\\n=================\\n')  \n",
    "\n",
    "print(\"Metoda zwracająca tylko męskie imię first_name_male(): \")\n",
    "for i in range(0,10):\n",
    "    print(polish_localized_faker.first_name_male(), end=', ')\n",
    "print('\\n=================\\n\\n')  \n",
    "\n",
    "print(\"Metoda zwracająca przedrostek - prefix(): \")\n",
    "print(polish_localized_faker.prefix(),end='\\n=================\\n\\n')    \n",
    "\n",
    "print(\"Metoda zwracająca parę imię i nazwisko - name(): \")\n",
    "print(polish_localized_faker.name(),end='\\n=================\\n\\n')    \n"
   ]
  },
  {
   "cell_type": "markdown",
   "id": "074adc12",
   "metadata": {},
   "source": [
    "## 1.2. `faker.providers.address` \n",
    "**Pełen opis metod tego *dostawcy* można znaleźć pod adresem:** [faker.readthedocs.io/en/master/providers/faker.providers.address](https://faker.readthedocs.io/en/master/providers/faker.providers.address.html) "
   ]
  },
  {
   "cell_type": "code",
   "execution_count": 92,
   "id": "a9273ac6",
   "metadata": {},
   "outputs": [
    {
     "name": "stdout",
     "output_type": "stream",
     "text": [
      "Metoda zwracająca pełny adres - address(): \n",
      "pl. Niepodległości 56/77\n",
      "94-702 Biała Podlaska\n",
      "=================\n",
      "\n",
      "Metoda zwracająca numer budynku - building_number(): \n",
      "95\n",
      "=================\n",
      "\n",
      "Metoda zwracająca nazwę miasta - city():\n",
      "Marki\n",
      "=================\n",
      "\n",
      "Metoda zwracająca województwo - region(): \n",
      "Mazowieckie\n",
      "=================\n",
      "\n",
      "Metoda zwracająca kod pocztowy - postcode(): \n",
      "57-867\n",
      "=================\n",
      "\n",
      "Metoda zwracająca adres ulicy - street_address(): \n",
      "pl. Piaskowa 578\n",
      "=================\n",
      "\n"
     ]
    }
   ],
   "source": [
    "print(\"Metoda zwracająca pełny adres - address(): \")\n",
    "print(polish_localized_faker.address(), end='\\n=================\\n\\n')\n",
    "\n",
    "print(\"Metoda zwracająca numer budynku - building_number(): \")\n",
    "print(polish_localized_faker.building_number(), end='\\n=================\\n\\n')\n",
    "\n",
    "print(\"Metoda zwracająca nazwę miasta - city():\")\n",
    "print(polish_localized_faker.city(), end='\\n=================\\n\\n') \n",
    "\n",
    "print(\"Metoda zwracająca województwo - region(): \")\n",
    "print(polish_localized_faker.region(), end='\\n=================\\n\\n') \n",
    "\n",
    "print(\"Metoda zwracająca kod pocztowy - postcode(): \")\n",
    "print(polish_localized_faker.postcode(),end='\\n=================\\n\\n')    \n",
    "\n",
    "print(\"Metoda zwracająca adres ulicy - street_address(): \")\n",
    "print(polish_localized_faker.street_address(),end='\\n=================\\n\\n')    \n"
   ]
  },
  {
   "cell_type": "markdown",
   "id": "9801ef2d",
   "metadata": {},
   "source": [
    "## 1.3. `faker.providers.profile` \n",
    "**Pełen opis metod tego *dostawcy* można znaleźć pod adresem:** [faker.readthedocs.io/en/master/providers/faker.providers.profile](https://faker.readthedocs.io/en/master/providers/faker.providers.profile.html) "
   ]
  },
  {
   "cell_type": "code",
   "execution_count": 107,
   "id": "05f3b0f5",
   "metadata": {},
   "outputs": [
    {
     "name": "stdout",
     "output_type": "stream",
     "text": [
      "Metoda zwracająca pełen profil osoby - profile(): \n",
      "\n",
      "{'job': 'Technik weterynarii', 'company': 'FPUH Gierasimiuk', 'ssn': '10280383681', 'residence': 'ulica Truskawkowa 16/77\\n34-236 Świętochłowice', 'current_location': (Decimal('35.861166'), Decimal('-3.116952')), 'blood_group': 'AB-', 'website': ['http://www.postawa.pl/', 'https://www.spoldzielnia.pl/', 'https://wisz.com/', 'http://www.gabinety.pl/'], 'username': 'kotlarekolga', 'name': 'Maciej Marciniszyn', 'sex': 'F', 'address': 'ulica Stycznia 789\\n18-254 Lubin', 'mail': 'rawamalwina@gmail.com', 'birthdate': datetime.date(1992, 10, 15)}\n",
      "\n",
      "=====================\n",
      "\n",
      "\n",
      "Metoda zwracająca częściowy profil osoby - simple_profile(): \n",
      "\n",
      "{'username': 'cezary23', 'name': 'Krystian Kołodziejak', 'sex': 'M', 'address': 'ul. Lipowa 36/81\\n19-692 Otwock', 'mail': 'julianhyjek@onet.pl', 'birthdate': datetime.date(1981, 12, 6)}\n",
      "\n",
      "=====================\n",
      "\n",
      "\n",
      "Metoda zwracająca pełen profil osoby - profile(): - z uwzględnieniem lokalizacji: \n",
      "\n",
      "{'job': 'Сапожник', 'company': 'РКЦ Прогресс', 'ssn': '097126268502', 'residence': 'ст. Шадринск, ш. Горняцкое, д. 1/7, 220507', 'current_location': (Decimal('-24.988718'), Decimal('-173.319139')), 'blood_group': 'A+', 'website': ['https://npo.edu/', 'https://www.kornilova.net/'], 'username': 'valentina_51', 'name': 'Любовь Богдановна Рогова', 'sex': 'F', 'address': 'клх Ачхой Мартан, ш. Шахтерское, д. 6 к. 5/8, 435282', 'mail': 'seliverstovasinklitikija@rambler.ru', 'birthdate': datetime.date(2004, 9, 19)}\n",
      "\n",
      "=====================\n",
      "\n",
      "\n",
      "Metoda zwracająca częściowy profil osoby - simple_profile(): - z uwzględnieniem lokalizacji: \n",
      "\n",
      "{'username': 'rodion_1999', 'name': 'Моисеева Евпраксия Леоновна', 'sex': 'F', 'address': 'д. Боровск, пр. Микрорайон, д. 60 к. 770, 901339', 'mail': 'gennadiershov@yandex.ru', 'birthdate': datetime.date(2009, 7, 6)}\n"
     ]
    }
   ],
   "source": [
    "print(\"Metoda zwracająca pełen profil osoby - profile(): \", end='\\n\\n')\n",
    "print(polish_localized_faker.profile())\n",
    "\n",
    "print('\\n=====================\\n\\n')\n",
    "\n",
    "print(\"Metoda zwracająca częściowy profil osoby - simple_profile(): \", end='\\n\\n')\n",
    "print(polish_localized_faker.simple_profile())\n",
    "\n",
    "print('\\n=====================\\n\\n')\n",
    "\n",
    "print(\"Metoda zwracająca pełen profil osoby - profile(): - z uwzględnieniem lokalizacji: \", end='\\n\\n')\n",
    "print(multi_country_codes_faker.profile())\n",
    "\n",
    "print('\\n=====================\\n\\n')\n",
    "\n",
    "print(\"Metoda zwracająca częściowy profil osoby - simple_profile(): - z uwzględnieniem lokalizacji: \", end='\\n\\n')\n",
    "print(multi_country_codes_faker.simple_profile())"
   ]
  },
  {
   "cell_type": "markdown",
   "id": "627e53fa",
   "metadata": {},
   "source": [
    "## 1.4. `faker.providers.python` \n",
    "**Pełen opis metod tego *dostawcy* można znaleźć pod adresem:** [faker.readthedocs.io/en/master/providers/faker.providers.python](https://faker.readthedocs.io/en/master/providers/faker.providers.python.html) "
   ]
  },
  {
   "cell_type": "code",
   "execution_count": null,
   "id": "4b14f702",
   "metadata": {},
   "outputs": [],
   "source": [
    "for _ in range(0, 10):\n",
    "    print(fake.pybool(), end=' | ')"
   ]
  },
  {
   "cell_type": "code",
   "execution_count": 156,
   "id": "c019cd14",
   "metadata": {},
   "outputs": [
    {
     "name": "stdout",
     "output_type": "stream",
     "text": [
      "Metoda zwracająca losową wartość typu Bool - pybool(): \n",
      "True | True | False | False | True | False | False | False | True | True | \n",
      "=================\n",
      "\n",
      "\n",
      "Metoda zwracająca losową liczbe typu Decimal - pydecimal(): \n",
      "4975.66 | 7273.94 | 896.36 | 4691.71 | 1407.3 | 7069.18 | 17.35 | -1036.9 | -506.18 | -2994.19 | \n",
      "=================\n",
      "\n",
      "\n",
      "Metoda zwracająca losowy słownik - pydict():\n",
      "{'city': 7070}\n",
      "{'summer': 'hVvyxwALmklfMgfiqpAP', 'wide': 'plMTSGufcxRVYblRgjxz', 'boy': 'BDRjhSFilDOQHQySSolh'}\n",
      "{'guy': 79.2726340755849, 'owner': 'bkouYKmwwclpQyozCHUq', 'remember': 9309, 'dream': 6668483001788.46}\n",
      "{'win': 'cBhEGrDVhHKCcpEXYNjL'}\n",
      "{'ok': 5744, 'rather': 64069385294.1511, 'chair': -88292276.401982}\n",
      "{'situation': 7727, 'talk': 'FPGENthavmdKkdDUMkMs'}\n",
      "{'away': -6.99188438877765, 'offer': -3462633419.15102, 'state': -3.2341688932837}\n",
      "{'note': -3280369866056.14, 'agreement': 6277}\n",
      "{'speak': 8677, 'life': 'LsOMTsgJuTUssPpDxYED', 'near': 44709.9541755627}\n",
      "{'factor': 9722, 'second': 'cwyBTWZMGpWlfpfQWosp', 'ball': 'IALuEryNbNqsWFrTYVmx', 'candidate': 'PNmVYqCJmnyxESQoKiBh'}\n",
      "\n",
      "=================\n",
      "\n",
      "\n",
      "Metoda zwracająca losową listę - pylist():\n",
      "['MtZkcmqpdnuCXKZbPRdp', 'dRpgoLhmkHihuHTJtvAh']\n",
      "['sqxCUzNGXOBibQjyCvEs', 'ybVvQjgJCczfBkiWVMJb']\n",
      "[75373550.929081, 'hxxerCDzRVWVtJHCpRDg']\n",
      "['wgNfWSQDGOODNdCPXrkq', -5.8146130899428]\n",
      "[-5440729544402.64, -20119.8518611701]\n",
      "['elEQGUEmDQxDzWfmHTAx']\n",
      "['QutcnyvtNghPgZBWwbAR']\n",
      "[-644224014961.605]\n",
      "[-82664193846.7876]\n",
      "[58002.955136161]\n",
      "\n",
      "=================\n",
      "\n",
      "\n",
      "Metoda zwracająca losowy ciąg znaków - pystr():\n",
      "yRZrtMiBBYWXLFIxuDnl\n",
      "BxglSelkjHiXuwbSgXjx\n",
      "SDMdoWPQhTSHepxgWlRq\n",
      "qOamiQNUoxBLywSGDizh\n",
      "saYHPxzxgyFypjStAjly\n",
      "FyKOlVsyBrNWYvFfcPCj\n",
      "ooMgFhfypveQGDiPtObf\n",
      "smQQLDuDeYNTdkVmbbaf\n",
      "ntznEjhiDVFnsDOmUBXy\n",
      "tXFySoYkWwKstaXmUUAh\n",
      "\n",
      "=================\n",
      "\n",
      "\n",
      "Metoda zwracająca losowy ciąg znaków według zadanego wzorca - pystr_format(): \n",
      "gdzie: ? - reprezentuje dowonlą literę, natomiast # - liczbę\n",
      "dn__1hW1-y65-IJ-3650-TEST_2606J\n",
      "Vz__6Zp4-F79-YP-2683-TEST_8566V\n",
      "Wf__5mJ1-p23-VL-1230-TEST_4356r\n",
      "PE__5Nc0-e88-zJ-2372-TEST_3808m\n",
      "HP__2Fy3-c82-lj-6044-TEST_8546C\n",
      "Li__7px8-t10-jQ-8975-TEST_1120R\n",
      "AB__5MF5-h25-kH-9625-TEST_5597z\n",
      "dO__5nW4-a95-BI-5810-TEST_3826o\n",
      "dL__9Dn1-K00-tV-3422-TEST_8530y\n",
      "VL__1oe1-n71-Kh-2432-TEST_3020Q\n",
      "\n",
      "=================\n",
      "\n",
      "\n"
     ]
    }
   ],
   "source": [
    "print(\"Metoda zwracająca losową wartość typu Bool - pybool(): \")\n",
    "for _ in range(0, 10):\n",
    "    print(fake.pybool(), end=' | ')\n",
    "print('\\n=================\\n\\n')\n",
    "\n",
    "print(\"Metoda zwracająca losową liczbe typu Decimal - pydecimal(): \") # Można użyć również pyfloat()\n",
    "for _ in range(0, 10):\n",
    "    print(fake.pydecimal(left_digits=4, right_digits=2, positive=fake.pybool()), end=' | ')\n",
    "print('\\n=================\\n\\n')\n",
    "\n",
    "print(\"Metoda zwracająca losowy słownik - pydict():\")\n",
    "for _ in range(0, 10):\n",
    "    print(fake.pydict(nb_elements=3, value_types=[str, int, float]), end='\\n')\n",
    "print('\\n=================\\n\\n') \n",
    "\n",
    "print(\"Metoda zwracająca losową listę - pylist():\")\n",
    "for _ in range(0, 10):\n",
    "    print(fake.pylist(nb_elements=2, value_types=[str, float]), end='\\n')\n",
    "print('\\n=================\\n\\n') \n",
    "\n",
    "print(\"Metoda zwracająca losowy ciąg znaków - pystr():\")\n",
    "for _ in range(0, 10):\n",
    "    print(fake.pystr(), end='\\n')\n",
    "print('\\n=================\\n\\n')    \n",
    "\n",
    "print(\"Metoda zwracająca losowy ciąg znaków według zadanego wzorca - pystr_format(): \")\n",
    "print('gdzie: ? - reprezentuje dowonlą literę, natomiast # - liczbę')\n",
    "for _ in range(0, 10):\n",
    "    print(fake.pystr_format(string_format='??__#??#-?##-??-####-TEST_{{random_int}}{{random_letter}}'), end='\\n')\n",
    "print('\\n=================\\n\\n')  \n"
   ]
  },
  {
   "cell_type": "markdown",
   "id": "a90591b0",
   "metadata": {},
   "source": [
    "***\n",
    "## Listę pozostałych *dostawców* można sprawdzić w dokumentacji: [faker.readthedocs.io/en/master/providers](https://faker.readthedocs.io/en/master/providers.html)\n",
    "***"
   ]
  },
  {
   "cell_type": "markdown",
   "id": "25ae23f8",
   "metadata": {},
   "source": [
    "# TODO DODAĆ PARĘ PODSTAWOWYCH FUNKCJI WRAZ Z OPISEM"
   ]
  },
  {
   "cell_type": "markdown",
   "id": "273048db",
   "metadata": {},
   "source": [
    "# Bibliografia oraz użyte źródła:\n"
   ]
  },
  {
   "cell_type": "code",
   "execution_count": null,
   "id": "eae897c8",
   "metadata": {},
   "outputs": [],
   "source": []
  }
 ],
 "metadata": {
  "kernelspec": {
   "display_name": "Python 3 (ipykernel)",
   "language": "python",
   "name": "python3"
  },
  "language_info": {
   "codemirror_mode": {
    "name": "ipython",
    "version": 3
   },
   "file_extension": ".py",
   "mimetype": "text/x-python",
   "name": "python",
   "nbconvert_exporter": "python",
   "pygments_lexer": "ipython3",
   "version": "3.9.7"
  }
 },
 "nbformat": 4,
 "nbformat_minor": 5
}
